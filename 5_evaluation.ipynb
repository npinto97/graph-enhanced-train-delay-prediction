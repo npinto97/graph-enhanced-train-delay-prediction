{
 "cells": [
  {
   "cell_type": "markdown",
   "metadata": {},
   "source": [
    "# **Final Model Evaluation**\n",
    "\n",
    "The results presented in this notebook should not be interpreted in absolute terms. The overall performance of the models appears suboptimal because we deliberately removed the `prev_stop_delay` feature, which was highly correlated with the target variable. This decision was made to better isolate and analyze the impact of incorporating topological features derived from the railway network.\n",
    "\n",
    "The primary objective of this evaluation is **not** to develop the best predictive model for train delays, but rather to **compare the relative performance of different models** trained on various dataset configurations. By doing so, we can assess whether integrating structural information extracted from the network improves predictive accuracy.\n",
    "\n",
    "The following models are compared:\n",
    "\n",
    "- **ElasticNet (Base & Graph)** – A simple linear regression with L1 and L2 regularization, serving as a baseline.\n",
    "- **XGBoost (Base, Graph, Embedding)** – A more powerful gradient boosting model to capture non-linear relationships.\n",
    "- **LSTM (Base, Graph, Embedding)** – A recurrent neural network designed to capture temporal dependencies.\n",
    "\n",
    "The evaluation will focus on three key metrics:\n",
    "\n",
    "- **Root Mean Squared Error (RMSE)**: Measures overall prediction error, with lower values indicating better performance.\n",
    "- **Mean Absolute Error (MAE)**: Provides an intuitive sense of average prediction error magnitude.\n",
    "- **R^2 Score**: Assesses how well the model explains variance in the target variable.\n",
    "\n",
    "By comparing these metrics across models, we can determine whether the addition of graph-based features or embeddings leads to a meaningful improvement in predictive performance."
   ]
  },
  {
   "cell_type": "code",
   "execution_count": 15,
   "metadata": {},
   "outputs": [],
   "source": [
    "import pandas as pd\n",
    "import matplotlib.pyplot as plt\n",
    "import seaborn as sns"
   ]
  },
  {
   "cell_type": "code",
   "execution_count": 16,
   "metadata": {},
   "outputs": [],
   "source": [
    "RESULTS_PATH = Path(\"results\")\n",
    "\n",
    "files = [\n",
    "    (\"elasticnet_gridsearch_results_base.csv\", \"ElasticNet Base\"),\n",
    "    (\"elasticnet_gridsearch_results_graph.csv\", \"ElasticNet Graph\"),\n",
    "    (\"xgb_results_base.csv\", \"XGB Base\"),\n",
    "    (\"xgb_results_graph.csv\", \"XGB Graph\"),\n",
    "    (\"xgb_results_embeddings.csv\", \"XGB Embedding\"),\n",
    "    (\"lstm_results_base.csv\", \"LSTM Base\"),\n",
    "    (\"lstm_results_graph.csv\", \"LSTM Graph\"),\n",
    "    (\"lstm_results_graph_embedding.csv\", \"LSTM Embedding\")\n",
    "]"
   ]
  },
  {
   "cell_type": "code",
   "execution_count": 17,
   "metadata": {},
   "outputs": [],
   "source": [
    "results = []\n",
    "for file, model in files:\n",
    "    try:\n",
    "        df = pd.read_csv(RESULTS_PATH / file)\n",
    "        rmse = df['RMSE'].mean()\n",
    "        mae = df['MAE'].mean()\n",
    "        r2_column = 'R^2' if 'R^2' in df.columns else 'R²'\n",
    "        r2 = df[r2_column].mean()\n",
    "        results.append([model, rmse, mae, r2])\n",
    "    except Exception as e:\n",
    "        print(f\"Error loading {file}: {e}\")\n",
    "\n",
    "results_df = pd.DataFrame(results, columns=[\"Model\", \"RMSE\", \"MAE\", \"R²\"])\n",
    "results_df.sort_values(by=\"RMSE\", ascending=True, inplace=True)  # Sort by RMSE"
   ]
  },
  {
   "cell_type": "code",
   "execution_count": 18,
   "metadata": {},
   "outputs": [
    {
     "data": {
      "application/vnd.microsoft.datawrangler.viewer.v0+json": {
       "columns": [
        {
         "name": "index",
         "rawType": "int64",
         "type": "integer"
        },
        {
         "name": "Model",
         "rawType": "object",
         "type": "string"
        },
        {
         "name": "RMSE",
         "rawType": "float64",
         "type": "float"
        },
        {
         "name": "MAE",
         "rawType": "float64",
         "type": "float"
        },
        {
         "name": "R²",
         "rawType": "float64",
         "type": "float"
        }
       ],
       "conversionMethod": "pd.DataFrame",
       "ref": "c363773e-8d5f-48d2-b55f-1b2be270898d",
       "rows": [
        [
         "3",
         "XGB Graph",
         "5.409420461778412",
         "2.512163510344495",
         "0.4869711598563931"
        ],
        [
         "2",
         "XGB Base",
         "5.47327496646938",
         "2.55156921177271",
         "0.4747877650954137"
        ],
        [
         "4",
         "XGB Embedding",
         "5.54053987953175",
         "2.5719915968478606",
         "0.4617990360436055"
        ],
        [
         "6",
         "LSTM Graph",
         "5.930868453903635",
         "2.801573714573754",
         "0.4368630032230809"
        ],
        [
         "7",
         "LSTM Embedding",
         "5.958808392776734",
         "2.866467299586005",
         "0.4315447014092055"
        ],
        [
         "5",
         "LSTM Base",
         "6.019380691978342",
         "2.894840470619625",
         "0.4199290732544842"
        ],
        [
         "1",
         "ElasticNet Graph",
         "6.129711022842345",
         "3.0301105414116365",
         "0.3453287319475049"
        ],
        [
         "0",
         "ElasticNet Base",
         "6.133966287297936",
         "3.0380867248969703",
         "0.3444194459677855"
        ]
       ],
       "shape": {
        "columns": 4,
        "rows": 8
       }
      },
      "text/html": [
       "<div>\n",
       "<style scoped>\n",
       "    .dataframe tbody tr th:only-of-type {\n",
       "        vertical-align: middle;\n",
       "    }\n",
       "\n",
       "    .dataframe tbody tr th {\n",
       "        vertical-align: top;\n",
       "    }\n",
       "\n",
       "    .dataframe thead th {\n",
       "        text-align: right;\n",
       "    }\n",
       "</style>\n",
       "<table border=\"1\" class=\"dataframe\">\n",
       "  <thead>\n",
       "    <tr style=\"text-align: right;\">\n",
       "      <th></th>\n",
       "      <th>Model</th>\n",
       "      <th>RMSE</th>\n",
       "      <th>MAE</th>\n",
       "      <th>R²</th>\n",
       "    </tr>\n",
       "  </thead>\n",
       "  <tbody>\n",
       "    <tr>\n",
       "      <th>3</th>\n",
       "      <td>XGB Graph</td>\n",
       "      <td>5.409420</td>\n",
       "      <td>2.512164</td>\n",
       "      <td>0.486971</td>\n",
       "    </tr>\n",
       "    <tr>\n",
       "      <th>2</th>\n",
       "      <td>XGB Base</td>\n",
       "      <td>5.473275</td>\n",
       "      <td>2.551569</td>\n",
       "      <td>0.474788</td>\n",
       "    </tr>\n",
       "    <tr>\n",
       "      <th>4</th>\n",
       "      <td>XGB Embedding</td>\n",
       "      <td>5.540540</td>\n",
       "      <td>2.571992</td>\n",
       "      <td>0.461799</td>\n",
       "    </tr>\n",
       "    <tr>\n",
       "      <th>6</th>\n",
       "      <td>LSTM Graph</td>\n",
       "      <td>5.930868</td>\n",
       "      <td>2.801574</td>\n",
       "      <td>0.436863</td>\n",
       "    </tr>\n",
       "    <tr>\n",
       "      <th>7</th>\n",
       "      <td>LSTM Embedding</td>\n",
       "      <td>5.958808</td>\n",
       "      <td>2.866467</td>\n",
       "      <td>0.431545</td>\n",
       "    </tr>\n",
       "    <tr>\n",
       "      <th>5</th>\n",
       "      <td>LSTM Base</td>\n",
       "      <td>6.019381</td>\n",
       "      <td>2.894840</td>\n",
       "      <td>0.419929</td>\n",
       "    </tr>\n",
       "    <tr>\n",
       "      <th>1</th>\n",
       "      <td>ElasticNet Graph</td>\n",
       "      <td>6.129711</td>\n",
       "      <td>3.030111</td>\n",
       "      <td>0.345329</td>\n",
       "    </tr>\n",
       "    <tr>\n",
       "      <th>0</th>\n",
       "      <td>ElasticNet Base</td>\n",
       "      <td>6.133966</td>\n",
       "      <td>3.038087</td>\n",
       "      <td>0.344419</td>\n",
       "    </tr>\n",
       "  </tbody>\n",
       "</table>\n",
       "</div>"
      ],
      "text/plain": [
       "              Model      RMSE       MAE        R²\n",
       "3         XGB Graph  5.409420  2.512164  0.486971\n",
       "2          XGB Base  5.473275  2.551569  0.474788\n",
       "4     XGB Embedding  5.540540  2.571992  0.461799\n",
       "6        LSTM Graph  5.930868  2.801574  0.436863\n",
       "7    LSTM Embedding  5.958808  2.866467  0.431545\n",
       "5         LSTM Base  6.019381  2.894840  0.419929\n",
       "1  ElasticNet Graph  6.129711  3.030111  0.345329\n",
       "0   ElasticNet Base  6.133966  3.038087  0.344419"
      ]
     },
     "metadata": {},
     "output_type": "display_data"
    },
    {
     "data": {
      "image/png": "[encoded data removed]",
      "text/plain": [
       "<Figure size 1800x500 with 3 Axes>"
      ]
     },
     "metadata": {},
     "output_type": "display_data"
    }
   ],
   "source": [
    "display(results_df)\n",
    "\n",
    "fig, axes = plt.subplots(1, 3, figsize=(18, 5))\n",
    "sns.barplot(ax=axes[0], data=results_df, x=\"RMSE\", y=\"Model\", hue=\"Model\", dodge=False, palette=\"Blues_r\", legend=False)\n",
    "axes[0].set_title(\"RMSE Comparison\")\n",
    "axes[0].set_xlabel(\"RMSE\")\n",
    "axes[0].set_ylabel(\"Model\")\n",
    "\n",
    "sns.barplot(ax=axes[1], data=results_df, x=\"MAE\", y=\"Model\", hue=\"Model\", dodge=False, palette=\"Oranges_r\", legend=False)\n",
    "axes[1].set_title(\"MAE Comparison\")\n",
    "axes[1].set_xlabel(\"MAE\")\n",
    "axes[1].set_ylabel(\"\")\n",
    "\n",
    "sns.barplot(ax=axes[2], data=results_df, x=\"R²\", y=\"Model\", hue=\"Model\", dodge=False, palette=\"Greens_r\", legend=False)\n",
    "axes[2].set_title(\"R² Comparison\")\n",
    "axes[2].set_xlabel(\"R²\")\n",
    "axes[2].set_ylabel(\"\")\n",
    "\n",
    "plt.tight_layout()\n",
    "plt.show()"
   ]
  },
  {
   "cell_type": "markdown",
   "metadata": {},
   "source": [
    "## **Conclusion**\n",
    "\n",
    "The evaluation results confirm that incorporating structural information from the railway network has a positive impact on predictive performance. However, the magnitude of improvement varies depending on the model type and the way graph-based features are integrated.\n",
    "\n",
    "1. **XGBoost Consistently Outperforms Other Models**  \n",
    "   The best-performing model is **XGBoost with graph-based features**, achieving the lowest RMSE (5.409) and the highest R^2 (0.487). This suggests that XGBoost effectively captures non-linear interactions between topological features and train delays.  \n",
    "   - The **Base XGBoost model** performs slightly worse (RMSE: 5.473, R^2: 0.475), but the difference indicates that structural features provide additional predictive power.  \n",
    "   - The **XGBoost model trained with Node2Vec embeddings** performs worse than the graph-based feature model (RMSE: 5.541, R^2: 0.462), suggesting that direct structural features are more effective than unsupervised node embeddings in this context.\n",
    "\n",
    "2. **LSTM Performance Improves with Graph-Based Features**  \n",
    "   The **Graph LSTM** model (RMSE: 5.931, R^2: 0.437) outperforms both the Base LSTM (RMSE: 6.019, R^2: 0.420) and the Embedding LSTM (RMSE: 5.959, R^2: 0.432). While the improvements are moderate, they indicate that including explicit graph-based features benefits recurrent neural networks in capturing delay propagation patterns.\n",
    "\n",
    "3. **ElasticNet Shows Limited Improvement**  \n",
    "   The **ElasticNet model**, which serves as a linear baseline, benefits the least from additional structural features. Both the Base and Graph versions achieve similar results (R^2 around 0.345), reinforcing the idea that linear models struggle to leverage topological information effectively.\n",
    "\n",
    "So, the final considerations we can draw from the results of the experiments conducted so far are:\n",
    "- **Graph-based features extracted from the railway network provide a clear advantage over using only standard tabular data.** This effect is most evident in XGBoost and, to a lesser extent, in LSTM models.\n",
    "- **Node2Vec embeddings do not outperform direct graph-based features.** While they capture network structure, they may not encode information in the most optimal way for time-series forecasting.\n",
    "- **Non-linear models like XGBoost benefit the most from graph-based enhancements,** while LSTMs show moderate improvements and linear models see minimal gains.\n",
    "\n",
    "These findings suggest that future work should explore alternative ways of integrating graph embeddings, such as using domain-specific constraints in the embedding process or incorporating Graph Neural Networks (GNNs) to learn more meaningful representations of the railway topology.\n",
    "\n",
    "> Note: A promising direction for future research is the integration of **exogenous information**, such as weather conditions, which could significantly impact train delays. Preliminary experiments in this direction had to be halted due to the high volume of data required via API requests, which would have taken several days to collect. However, if this limitation can be overcome, weather variables (e.g., precipitation, temperature, wind speed) could provide valuable context to further refine delay predictions."
   ]
  }
 ],
 "metadata": {
  "kernelspec": {
   "display_name": ".venv",
   "language": "python",
   "name": "python3"
  },
  "language_info": {
   "codemirror_mode": {
    "name": "ipython",
    "version": 3
   },
   "file_extension": ".py",
   "mimetype": "text/x-python",
   "name": "python",
   "nbconvert_exporter": "python",
   "pygments_lexer": "ipython3",
   "version": "3.10.0"
  }
 },
 "nbformat": 4,
 "nbformat_minor": 2
}
