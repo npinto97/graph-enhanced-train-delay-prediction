{
 "cells": [
  {
   "cell_type": "markdown",
   "metadata": {},
   "source": [
    "# **Deep Models**\n",
    "\n",
    "**LSTM Model**  \n",
    "\n",
    "In this notebook, we test Long Short-Term Memory (LSTM) networks, a type of recurrent neural network (RNN) specifically designed to handle sequential data. LSTMs are well-suited for time-series problems as they can capture long-term dependencies and patterns in sequential data, overcoming the vanishing gradient problem that traditional RNNs face.  \n",
    "\n",
    "LSTMs achieve this by using a specialized memory cell structure with input, output, and forget gates, allowing the network to selectively retain and discard information over time. This makes them particularly effective for capturing trends, seasonality, and temporal relationships in our dataset. Given the sequential nature of our data, LSTMs provide a deep learning-based approach that complements our baseline XGBoost model, enabling us to explore potential improvements in predictive performance. "
   ]
  },
  {
   "cell_type": "markdown",
   "metadata": {},
   "source": [
    "In this LSTM (Long Short-Term Memory) implementation, several key techniques and \"tricks\" are used to improve model performance and learning:\n",
    "\n",
    "1. Sequence Creation Trick\n",
    "The `prepare_sequence_data()` function uses a sliding window approach to create sequences:\n",
    "- Transforms flat data into temporal sequences\n",
    "- Captures historical context by creating input sequences of fixed length\n",
    "- Allows the model to learn from previous time steps\n",
    "\n",
    "2. Time Series Cross-Validation Approach\n",
    "- Maintains chronological order during data splitting\n",
    "- Uses `shuffle=False` to preserve temporal dependencies\n",
    "- Ensures that training respects the time-based nature of the data\n",
    "\n",
    "3. LSTM Architecture Tricks\n",
    "- Multiple LSTM Layers (num_layers=2)\n",
    "  * Allows learning of more complex temporal representations\n",
    "  * Increases model capacity to capture intricate patterns\n",
    "\n",
    "- Dropout in LSTM\n",
    "  * Prevents overfitting\n",
    "  * Helps model generalize better by randomly dropping connections\n",
    "\n",
    "4. Hidden State Initialization\n",
    "```python\n",
    "h0 = torch.zeros(self.num_layers, x.size(0), self.hidden_size).to(x.device)\n",
    "c0 = torch.zeros(self.num_layers, x.size(0), self.hidden_size).to(x.device)\n",
    "```\n",
    "- Explicitly initializes hidden and cell states\n",
    "- Ensures clean slate for each sequence processing\n",
    "- Moves initialization to the same device as input (GPU/CPU)\n",
    "\n",
    "5. Last Timestep Selection\n",
    "```python\n",
    "out = self.fc(out[:, -1, :])\n",
    "```\n",
    "- Uses only the last timestep for prediction\n",
    "- Captures the most recent temporal context\n",
    "- Allows final layer to make prediction based on entire sequence\n",
    "\n",
    "6. Adaptive Learning Techniques\n",
    "- Adam Optimizer\n",
    "  * Adaptive learning rates for each parameter\n",
    "  * Handles different scales of parameters effectively\n",
    "\n",
    "- Early stopping concept (implicitly through epoch-based training)\n",
    "  * Prevents overfitting by monitoring train/test losses\n",
    "\n",
    "7. Device Agnostic Training\n",
    "```python\n",
    "device = torch.device('cuda' if torch.cuda.is_available() else 'cpu')\n",
    "```\n",
    "- Automatically uses GPU if available\n",
    "- Falls back to CPU seamlessly\n",
    "\n",
    "8. Loss and Metrics Tracking\n",
    "- Captures both training and validation losses\n",
    "- Enables detailed performance analysis\n",
    "- Helps diagnose potential overfitting"
   ]
  },
  {
   "cell_type": "code",
   "execution_count": 19,
   "metadata": {},
   "outputs": [],
   "source": [
    "import pandas as pd\n",
    "import numpy as np\n",
    "import torch\n",
    "import torch.nn as nn\n",
    "import torch.optim as optim\n",
    "from torch.utils.data import DataLoader, TensorDataset\n",
    "from torch.amp import GradScaler, autocast\n",
    "from torch.optim.lr_scheduler import ReduceLROnPlateau\n",
    "from sklearn.preprocessing import StandardScaler\n",
    "from sklearn.metrics import mean_absolute_error, mean_squared_error, r2_score\n",
    "from pathlib import Path\n",
    "import time"
   ]
  },
  {
   "cell_type": "code",
   "execution_count": 21,
   "metadata": {},
   "outputs": [],
   "source": [
    "PROCESSED_PATH = Path(\"data/processed\")\n",
    "MODELS_PATH = Path(\"models\")\n",
    "RESULTS_PATH = Path(\"results\")"
   ]
  },
  {
   "cell_type": "code",
   "execution_count": null,
   "metadata": {},
   "outputs": [],
   "source": [
    "torch.manual_seed(42)\n",
    "np.random.seed(42)"
   ]
  },
  {
   "cell_type": "code",
   "execution_count": 22,
   "metadata": {},
   "outputs": [],
   "source": [
    "def init_weights(m):\n",
    "    if isinstance(m, nn.Linear):\n",
    "        nn.init.xavier_uniform_(m.weight)\n",
    "        if m.bias is not None:\n",
    "            nn.init.zeros_(m.bias)"
   ]
  },
  {
   "cell_type": "code",
   "execution_count": null,
   "metadata": {},
   "outputs": [],
   "source": [
    "class TrainDelayLSTM(nn.Module):\n",
    "    def __init__(self, input_size, hidden_size, num_layers, output_size, dropout=0.2):\n",
    "        super(TrainDelayLSTM, self).__init__()\n",
    "        self.hidden_size = hidden_size\n",
    "        self.num_layers = num_layers\n",
    "        self.lstm = nn.LSTM(\n",
    "            input_size=input_size, \n",
    "            hidden_size=hidden_size, \n",
    "            num_layers=num_layers, \n",
    "            batch_first=True,\n",
    "            dropout=dropout if num_layers > 1 else 0\n",
    "        )\n",
    "        self.fc = nn.Linear(hidden_size, output_size)\n",
    "        self.apply(init_weights)\n",
    "        \n",
    "    def forward(self, x):\n",
    "        h0 = torch.zeros(self.num_layers, x.size(0), self.hidden_size, device=x.device)\n",
    "        c0 = torch.zeros(self.num_layers, x.size(0), self.hidden_size, device=x.device)\n",
    "        out, _ = self.lstm(x, (h0, c0))\n",
    "        out = self.fc(out[:, -1, :])\n",
    "        return out"
   ]
  },
  {
   "cell_type": "code",
   "execution_count": null,
   "metadata": {},
   "outputs": [],
   "source": [
    "def prepare_sequence_data(df, target_col, sequence_length=5):\n",
    "    df = df.sort_values(by=['month', 'day_of_week', 'hour'])\n",
    "    X = df.drop(columns=[target_col])\n",
    "    y = df[target_col]\n",
    "    scaler = StandardScaler()\n",
    "    X_scaled = scaler.fit_transform(X)\n",
    "    sequences = np.array([X_scaled[i:i+sequence_length] for i in range(len(X_scaled) - sequence_length)])\n",
    "    targets = np.array(y.iloc[sequence_length:])\n",
    "    \n",
    "    return torch.FloatTensor(sequences), torch.FloatTensor(targets), scaler"
   ]
  },
  {
   "cell_type": "code",
   "execution_count": null,
   "metadata": {},
   "outputs": [],
   "source": [
    "def train_lstm_model(dataset_name, sequence_length=5):\n",
    "    df = pd.read_parquet(PROCESSED_PATH / f\"final_data{'_graph' if dataset_name == 'Graph' else ''}.parquet\")\n",
    "    X_seq, y_seq, scaler = prepare_sequence_data(df, 'stop_arrival_delay', sequence_length)\n",
    "    \n",
    "    X_train, X_test, y_train, y_test = train_test_split(X_seq, y_seq, test_size=0.2, shuffle=False)\n",
    "    train_dataset = TensorDataset(X_train, y_train)\n",
    "    test_dataset = TensorDataset(X_test, y_test)\n",
    "    \n",
    "    device = torch.device('cuda' if torch.cuda.is_available() else 'cpu')\n",
    "    print(f\"Training on {device}\")\n",
    "    \n",
    "    train_loader = DataLoader(train_dataset, batch_size=128, shuffle=True, num_workers=4, pin_memory=True)\n",
    "    test_loader = DataLoader(test_dataset, batch_size=128, shuffle=False, num_workers=4, pin_memory=True)\n",
    "    \n",
    "    input_size = X_train.shape[2]\n",
    "    model = TrainDelayLSTM(input_size=input_size, hidden_size=64, num_layers=2, output_size=1).to(device)\n",
    "    \n",
    "    criterion = nn.MSELoss()\n",
    "    optimizer = optim.AdamW(model.parameters(), lr=0.001, weight_decay=1e-5)\n",
    "    scheduler = optim.lr_scheduler.StepLR(optimizer, step_size=30, gamma=0.5)\n",
    "    scaler = GradScaler()\n",
    "    \n",
    "    num_epochs = 50\n",
    "    train_losses, test_losses = [], []\n",
    "    \n",
    "    for epoch in range(num_epochs):\n",
    "        model.train()\n",
    "        train_loss = 0\n",
    "        for batch_X, batch_y in train_loader:\n",
    "            batch_X, batch_y = batch_X.to(device), batch_y.to(device)\n",
    "            optimizer.zero_grad()\n",
    "            with autocast():\n",
    "                outputs = model(batch_X)\n",
    "                loss = criterion(outputs.squeeze(), batch_y)\n",
    "            \n",
    "            scaler.scale(loss).backward()\n",
    "            torch.nn.utils.clip_grad_norm_(model.parameters(), max_norm=1.0)\n",
    "            scaler.step(optimizer)\n",
    "            scaler.update()\n",
    "            train_loss += loss.item()\n",
    "        scheduler.step()\n",
    "        train_loss /= len(train_loader)\n",
    "        train_losses.append(train_loss)\n",
    "        \n",
    "        model.eval()\n",
    "        test_loss = 0\n",
    "        with torch.no_grad():\n",
    "            for batch_X, batch_y in test_loader:\n",
    "                batch_X, batch_y = batch_X.to(device), batch_y.to(device)\n",
    "                outputs = model(batch_X)\n",
    "                loss = criterion(outputs.squeeze(), batch_y)\n",
    "                test_loss += loss.item()\n",
    "        \n",
    "        test_loss /= len(test_loader)\n",
    "        test_losses.append(test_loss)\n",
    "        \n",
    "        if epoch % 10 == 0:\n",
    "            print(f'Epoch {epoch+1}/{num_epochs}, Train Loss: {train_loss:.4f}, Test Loss: {test_loss:.4f}')\n",
    "    \n",
    "    model.eval()\n",
    "    predictions, actuals = [], []\n",
    "    \n",
    "    with torch.no_grad():\n",
    "        for batch_X, batch_y in test_loader:\n",
    "            batch_X = batch_X.to(device)\n",
    "            outputs = model(batch_X)\n",
    "            predictions.extend(outputs.cpu().numpy())\n",
    "            actuals.extend(batch_y.numpy())\n",
    "    \n",
    "    mae = mean_absolute_error(actuals, predictions)\n",
    "    rmse = np.sqrt(mean_squared_error(actuals, predictions))\n",
    "    r2 = r2_score(actuals, predictions)\n",
    "    \n",
    "    print(f\"{dataset_name} LSTM Results: MAE: {mae:.4f}, RMSE: {rmse:.4f}, R²: {r2:.4f}\")\n",
    "    \n",
    "    torch.save(model.state_dict(), MODELS_PATH / f\"lstm_{dataset_name.lower()}.pth\")\n",
    "    \n",
    "    results_df = pd.DataFrame({\n",
    "        'Dataset': [dataset_name],\n",
    "        'MAE': [mae],\n",
    "        'RMSE': [rmse],\n",
    "        'R²': [r2]\n",
    "    })\n",
    "    results_df.to_csv(RESULTS_PATH / f\"lstm_results_{dataset_name.lower()}.csv\", index=False)\n",
    "    \n",
    "    return model"
   ]
  },
  {
   "cell_type": "code",
   "execution_count": 8,
   "metadata": {},
   "outputs": [
    {
     "name": "stdout",
     "output_type": "stream",
     "text": [
      "Training on cuda\n"
     ]
    },
    {
     "name": "stderr",
     "output_type": "stream",
     "text": [
      "C:\\Users\\Ningo\\AppData\\Local\\Temp\\ipykernel_30576\\3477508518.py:34: FutureWarning: `torch.cuda.amp.autocast(args...)` is deprecated. Please use `torch.amp.autocast('cuda', args...)` instead.\n",
      "  with autocast():\n"
     ]
    },
    {
     "name": "stdout",
     "output_type": "stream",
     "text": [
      "Epoch 1/50, Train Loss: 7.5206, Test Loss: 7.2234\n",
      "Epoch 11/50, Train Loss: 6.1366, Test Loss: 7.0710\n",
      "Epoch 21/50, Train Loss: 5.9853, Test Loss: 7.0898\n",
      "Epoch 31/50, Train Loss: 5.8029, Test Loss: 7.3709\n",
      "Epoch 41/50, Train Loss: 5.7511, Test Loss: 7.3962\n",
      "Base LSTM Results: MAE: 1.4044, RMSE: 2.7505, R²: 0.8841\n",
      "Training on cuda\n"
     ]
    },
    {
     "name": "stderr",
     "output_type": "stream",
     "text": [
      "C:\\Users\\Ningo\\AppData\\Local\\Temp\\ipykernel_30576\\3477508518.py:34: FutureWarning: `torch.cuda.amp.autocast(args...)` is deprecated. Please use `torch.amp.autocast('cuda', args...)` instead.\n",
      "  with autocast():\n"
     ]
    },
    {
     "name": "stdout",
     "output_type": "stream",
     "text": [
      "Epoch 1/50, Train Loss: 7.2703, Test Loss: 6.8586\n",
      "Epoch 11/50, Train Loss: 5.8482, Test Loss: 7.2969\n",
      "Epoch 21/50, Train Loss: 5.7264, Test Loss: 7.8746\n",
      "Epoch 31/50, Train Loss: 5.5576, Test Loss: 7.6156\n",
      "Epoch 41/50, Train Loss: 5.5001, Test Loss: 7.8699\n",
      "Graph LSTM Results: MAE: 1.3823, RMSE: 2.7842, R²: 0.8810\n"
     ]
    }
   ],
   "source": [
    "datasets = ['Base', 'Graph']\n",
    "\n",
    "for dataset in datasets:\n",
    "    train_lstm_model(dataset)"
   ]
  },
  {
   "cell_type": "markdown",
   "metadata": {},
   "source": [
    "### **Results Analysis**\n",
    "\n",
    "The LSTM model was trained and evaluated on two datasets: one containing only the base features and another enriched with graph-based features. The results show that the model trained on the graph-enhanced dataset achieved a slightly lower Mean Absolute Error (MAE), indicating better performance in predicting small and frequent delays. Specifically, the MAE decreased from *1.4044* to *1.3823*.\n",
    "\n",
    "However, the Root Mean Squared Error (RMSE) increased slightly from *2.7505* to *2.7842*, and the R^2 score dropped from *0.8841* to *0.8810*. This suggests that while the graph features helped reduce average prediction errors, they may have introduced additional complexity or noise, leading to larger errors in some cases and slightly worse overall variance explained."
   ]
  },
  {
   "cell_type": "markdown",
   "metadata": {},
   "source": [
    "---\n",
    "---\n",
    "---"
   ]
  },
  {
   "cell_type": "markdown",
   "metadata": {},
   "source": [
    "## **Graph Embedding**"
   ]
  },
  {
   "cell_type": "code",
   "execution_count": null,
   "metadata": {},
   "outputs": [],
   "source": [
    "import networkx as nx\n",
    "from node2vec import Node2Vec\n",
    "import pandas as pd"
   ]
  },
  {
   "cell_type": "code",
   "execution_count": 2,
   "metadata": {},
   "outputs": [],
   "source": [
    "graph_path = \"other/train_network.graphml\"\n",
    "G = nx.read_graphml(graph_path)"
   ]
  },
  {
   "cell_type": "code",
   "execution_count": null,
   "metadata": {},
   "outputs": [],
   "source": [
    "node2vec = Node2Vec(G, dimensions=64, walk_length=30, num_walks=200, workers=4)\n",
    "model = node2vec.fit(window=10, min_count=1, batch_words=4)"
   ]
  },
  {
   "cell_type": "code",
   "execution_count": 4,
   "metadata": {},
   "outputs": [],
   "source": [
    "station_embeddings = pd.DataFrame(\n",
    "    [model.wv[key] for key in model.wv.key_to_index], \n",
    "    index=model.wv.key_to_index\n",
    ").reset_index().rename(columns={\"index\": \"station_name\"})"
   ]
  },
  {
   "cell_type": "code",
   "execution_count": 5,
   "metadata": {},
   "outputs": [
    {
     "name": "stdout",
     "output_type": "stream",
     "text": [
      "Embedding salvati in other/station_embeddings.csv\n"
     ]
    }
   ],
   "source": [
    "embedding_path = \"other/station_embeddings.csv\"\n",
    "station_embeddings.to_csv(embedding_path, index=False)\n",
    "\n",
    "print(f\"Embedding salvati in {embedding_path}\")"
   ]
  },
  {
   "cell_type": "markdown",
   "metadata": {},
   "source": [
    "## **Unire l'embedding al dataset**"
   ]
  },
  {
   "cell_type": "markdown",
   "metadata": {},
   "source": [
    "**Unire l'embedding del grafo al dataset e usarlo in un LSTM: ha senso?**\n",
    "**Dipende dallo scopo e da come intendi farlo.**\n",
    "Se vuoi unire l’embedding alle sequenze temporali e dare tutto in pasto a un LSTM, bisogna capire cosa rappresentano quegli embedding:\n",
    "\n",
    "L'embedding che hai calcolato rappresenta una **caratteristica stazionaria della rete** → Non cambia nel tempo.  \n",
    "In pratica, ogni stazione ha un vettore di embedding fisso che descrive la sua **posizione topologica** nella rete.\n",
    "\n",
    "Quando tu hai sequenze temporali tipo:\n",
    "```\n",
    "Giorno, Ora, Ritardo, ...\n",
    "```\n",
    "e gli aggiungi un embedding **fisso** come feature, stai dicendo al modello:\n",
    "> Oltre alle informazioni temporali, ti do anche informazioni strutturali sul nodo (stazione) coinvolto.\n",
    "\n",
    "**Quando questa scelta funziona bene**\n",
    "Se nei tuoi dati esiste una relazione **forte tra ritardi e posizione nella rete ferroviaria** (ad esempio: i ritardi si accumulano in stazioni centrali o di snodo), allora unire gli embedding ai dati temporali può aiutare.  \n",
    "L’LSTM potrà imparare che alcune stazioni tendono a causare ritardi cronici o sono colli di bottiglia.\n",
    "\n",
    "**Quando ha poco senso**\n",
    "Se il target che stai cercando di predire riguarda solo **ritardi a livello di singolo treno e dipende più da orari, condizioni e meno dalla topologia**, allora quell'embedding potrebbe non aggiungere molto e rischi di complicare inutilmente il modello."
   ]
  },
  {
   "cell_type": "markdown",
   "metadata": {},
   "source": [
    "Dal momento che ci serve la colonna stop_name per effettuare il merge con l'embedding, carichiamo il dataset non finale e ci lavoriamo"
   ]
  },
  {
   "cell_type": "markdown",
   "metadata": {},
   "source": [
    "Alleniamo la stessa LSTM di prima"
   ]
  },
  {
   "cell_type": "markdown",
   "metadata": {},
   "source": [
    "Integrazione degli embedding strutturali nella rete LSTM\n",
    "Abbiamo esteso l’input dei nostri modelli sequenziali includendo embedding strutturali ottenuti tramite Node2Vec sul grafo ferroviario. Tali embedding rappresentano informazioni latenti sulla posizione topologica di ogni stazione nella rete.\n",
    "L’inclusione di queste informazioni consente alla rete LSTM di apprendere non solo le dinamiche temporali, ma anche le potenziali influenze strutturali legate alla posizione della stazione nella rete.\n",
    "Per evitare un aumento eccessivo della dimensionalità in input, è stato inoltre introdotto un livello di proiezione lineare che riduce la dimensionalità prima dell’input all’LSTM, migliorando l’efficienza computazionale e riducendo il rischio di overfitting."
   ]
  },
  {
   "cell_type": "code",
   "execution_count": 1,
   "metadata": {},
   "outputs": [],
   "source": [
    "import pandas as pd\n",
    "import numpy as np\n",
    "import torch\n",
    "import torch.nn as nn\n",
    "import torch.optim as optim\n",
    "from torch.utils.data import DataLoader, TensorDataset\n",
    "from torch.amp import autocast, GradScaler\n",
    "from sklearn.decomposition import PCA\n",
    "from sklearn.preprocessing import StandardScaler\n",
    "from sklearn.metrics import mean_absolute_error, mean_squared_error, r2_score\n",
    "from pathlib import Path\n",
    "import matplotlib.pyplot as plt"
   ]
  },
  {
   "cell_type": "code",
   "execution_count": 2,
   "metadata": {},
   "outputs": [],
   "source": [
    "PROCESSED_PATH = Path(\"data/processed\")\n",
    "OTHER_PATH = Path(\"other\")\n",
    "MODELS_PATH = Path(\"models\")\n",
    "RESULTS_PATH = Path(\"results\")"
   ]
  },
  {
   "cell_type": "code",
   "execution_count": 3,
   "metadata": {},
   "outputs": [],
   "source": [
    "torch.manual_seed(42)\n",
    "np.random.seed(42)"
   ]
  },
  {
   "cell_type": "code",
   "execution_count": 23,
   "metadata": {},
   "outputs": [],
   "source": [
    "df = pd.read_parquet(PROCESSED_PATH / \"train_data_fe.parquet\")\n",
    "embedding = pd.read_csv(OTHER_PATH / \"station_embeddings.csv\")"
   ]
  },
  {
   "cell_type": "code",
   "execution_count": 24,
   "metadata": {},
   "outputs": [],
   "source": [
    "df = df.merge(embedding, left_on=\"stop_name\", right_on=\"station_name\", how=\"left\")\n",
    "df.drop(columns=[\"station_name\"], inplace=True)"
   ]
  },
  {
   "cell_type": "code",
   "execution_count": 25,
   "metadata": {},
   "outputs": [],
   "source": [
    "drop_cols = [\n",
    "    \"scheduled_departure_time\", \n",
    "    \"scheduled_arrival_time\",\n",
    "    \"stop_departure_time\",\n",
    "    \"departure_station\", \"arrival_station\",\n",
    "    \"stop_name\"\n",
    "]\n",
    "df.drop(columns=drop_cols, inplace=True)"
   ]
  },
  {
   "cell_type": "code",
   "execution_count": 26,
   "metadata": {},
   "outputs": [],
   "source": [
    "df[\"train_avg_delay\"] = df.groupby(\"train_number\")[\"stop_arrival_delay\"].transform(\"mean\")\n",
    "df.drop(columns=[\"train_number\"], inplace=True)\n",
    "df.dropna(inplace=True)"
   ]
  },
  {
   "cell_type": "code",
   "execution_count": 27,
   "metadata": {},
   "outputs": [],
   "source": [
    "embedding_cols = [col for col in df.columns if col.startswith('0') or col.isdigit()]"
   ]
  },
  {
   "cell_type": "code",
   "execution_count": 28,
   "metadata": {},
   "outputs": [
    {
     "data": {
      "image/png": "[encoded data removed]",
      "text/plain": [
       "<Figure size 640x480 with 1 Axes>"
      ]
     },
     "metadata": {},
     "output_type": "display_data"
    }
   ],
   "source": [
    "pca_full = PCA(n_components=64)\n",
    "pca_full.fit(df[embedding_cols])\n",
    "\n",
    "plt.plot(np.cumsum(pca_full.explained_variance_ratio_))\n",
    "plt.xlabel('Number of Components')\n",
    "plt.ylabel('Cumulative Explained Variance')\n",
    "plt.grid(True)\n",
    "plt.show()\n"
   ]
  },
  {
   "cell_type": "code",
   "execution_count": null,
   "metadata": {},
   "outputs": [],
   "source": [
    "pca = PCA(n_components=10)\n",
    "embedding_pca = pca.fit_transform(df[embedding_cols])"
   ]
  },
  {
   "cell_type": "code",
   "execution_count": 9,
   "metadata": {},
   "outputs": [],
   "source": [
    "pca_cols = [f\"embed_pca_{i}\" for i in range(embedding_pca.shape[1])]\n",
    "df[pca_cols] = embedding_pca\n",
    "df.drop(columns=embedding_cols, inplace=True)"
   ]
  },
  {
   "cell_type": "code",
   "execution_count": 10,
   "metadata": {},
   "outputs": [
    {
     "name": "stdout",
     "output_type": "stream",
     "text": [
      "PCA explained variance: 0.52\n"
     ]
    }
   ],
   "source": [
    "print(f\"PCA explained variance: {pca.explained_variance_ratio_.sum():.2f}\")"
   ]
  },
  {
   "cell_type": "markdown",
   "metadata": {},
   "source": [
    "**PCA sugli embedding del grafo**\n",
    "\n",
    "Per ridurre la dimensionalità degli embedding Node2Vec ottenuti dalla rete ferroviaria, abbiamo applicato la tecnica della Principal Component Analysis (PCA). L'obiettivo di questa riduzione è duplice: da un lato, eliminare ridondanze e rumore presenti nelle 64 dimensioni originarie; dall'altro, rendere il modello LSTM più efficiente in termini di tempo di training e inferenza, senza compromettere eccessivamente le informazioni rilevanti.\n",
    "\n",
    "Dopo aver applicato la PCA, abbiamo scelto di mantenere le prime 10 componenti principali, che spiegano complessivamente circa il 52% della varianza totale. Questo valore indica che oltre la metà dell'informazione contenuta negli embedding originali viene preservata nelle nuove feature. Sebbene non rappresenti la totalità della varianza, si tratta di un compromesso consapevole tra informazione e efficienza computazionale. Inoltre, abbiamo verificato che l’aggiunta di ulteriori componenti oltre le prime dieci avrebbe incrementato marginalmente la varianza spiegata, a fronte di un costo computazionale più elevato e un rischio maggiore di overfitting.\n",
    "\n",
    "Infine, la scelta di applicare la PCA è stata guidata anche dal contesto del problema: essendo gli embedding Node2Vec basati sulla struttura topologica del grafo, parte dell’informazione geometrica e relazionale è ridondante rispetto alle feature già presenti nel dataset, rendendo la compressione tramite PCA una soluzione efficace."
   ]
  },
  {
   "cell_type": "code",
   "execution_count": 11,
   "metadata": {},
   "outputs": [],
   "source": [
    "def init_weights(m):\n",
    "    if isinstance(m, nn.Linear):\n",
    "        nn.init.xavier_uniform_(m.weight)\n",
    "        nn.init.zeros_(m.bias)"
   ]
  },
  {
   "cell_type": "code",
   "execution_count": 12,
   "metadata": {},
   "outputs": [],
   "source": [
    "class TrainDelayLSTM(nn.Module):\n",
    "    def __init__(self, input_size, hidden_size, num_layers, output_size, dropout=0.2):\n",
    "        super(TrainDelayLSTM, self).__init__()\n",
    "        self.hidden_size = hidden_size\n",
    "        self.num_layers = num_layers\n",
    "        self.lstm = nn.LSTM(\n",
    "            input_size=input_size, \n",
    "            hidden_size=hidden_size, \n",
    "            num_layers=num_layers, \n",
    "            batch_first=True,\n",
    "            dropout=dropout if num_layers > 1 else 0\n",
    "        )\n",
    "        self.fc = nn.Linear(hidden_size, output_size)\n",
    "        self.apply(init_weights)\n",
    "        \n",
    "    def forward(self, x):\n",
    "        h0 = torch.zeros(self.num_layers, x.size(0), self.hidden_size, device=x.device)\n",
    "        c0 = torch.zeros(self.num_layers, x.size(0), self.hidden_size, device=x.device)\n",
    "        out, _ = self.lstm(x, (h0, c0))\n",
    "        out = self.fc(out[:, -1, :])\n",
    "        return out"
   ]
  },
  {
   "cell_type": "code",
   "execution_count": 13,
   "metadata": {},
   "outputs": [],
   "source": [
    "def prepare_sequence_data(df, target_col, sequence_length=5):\n",
    "    df = df.sort_values(by=['month', 'day_of_week', 'hour'])\n",
    "    X = df.drop(columns=[target_col])\n",
    "    y = df[target_col]\n",
    "    scaler = StandardScaler()\n",
    "    X_scaled = scaler.fit_transform(X)\n",
    "    sequences = np.array([X_scaled[i:i+sequence_length] for i in range(len(X_scaled) - sequence_length)])\n",
    "    targets = np.array(y.iloc[sequence_length:])\n",
    "    return torch.FloatTensor(sequences), torch.FloatTensor(targets), scaler"
   ]
  },
  {
   "cell_type": "code",
   "execution_count": 18,
   "metadata": {},
   "outputs": [],
   "source": [
    "def train_lstm_embedding(sequence_length=5):\n",
    "    X_seq, y_seq, scaler = prepare_sequence_data(df, 'stop_arrival_delay', sequence_length)\n",
    "    split_idx = int(len(X_seq) * 0.8)\n",
    "    X_train, X_test = X_seq[:split_idx], X_seq[split_idx:]\n",
    "    y_train, y_test = y_seq[:split_idx], y_seq[split_idx:]\n",
    "\n",
    "    train_dataset = TensorDataset(X_train, y_train)\n",
    "    test_dataset = TensorDataset(X_test, y_test)\n",
    "\n",
    "    device = torch.device('cuda' if torch.cuda.is_available() else 'cpu')\n",
    "    print(f\"Training on {device}\")\n",
    "\n",
    "    train_loader = DataLoader(train_dataset, batch_size=128, shuffle=True, num_workers=4, pin_memory=True)\n",
    "    test_loader = DataLoader(test_dataset, batch_size=128, shuffle=False, num_workers=4, pin_memory=True)\n",
    "\n",
    "    input_size = X_train.shape[2]\n",
    "    model = TrainDelayLSTM(input_size=input_size, hidden_size=64, num_layers=2, output_size=1).to(device)\n",
    "\n",
    "    criterion = nn.MSELoss()\n",
    "    optimizer = optim.AdamW(model.parameters(), lr=0.001, weight_decay=1e-5)\n",
    "    scheduler = optim.lr_scheduler.StepLR(optimizer, step_size=30, gamma=0.5)\n",
    "    scaler_amp = GradScaler()\n",
    "\n",
    "    num_epochs = 50\n",
    "    train_losses, test_losses = [], []\n",
    "\n",
    "    for epoch in range(num_epochs):\n",
    "        model.train()\n",
    "        train_loss = 0\n",
    "        for batch_X, batch_y in train_loader:\n",
    "            batch_X, batch_y = batch_X.to(device), batch_y.to(device)\n",
    "            optimizer.zero_grad()\n",
    "            with autocast('cuda'):\n",
    "                outputs = model(batch_X)\n",
    "                loss = criterion(outputs.squeeze(), batch_y)\n",
    "            scaler_amp.scale(loss).backward()\n",
    "            torch.nn.utils.clip_grad_norm_(model.parameters(), max_norm=1.0)\n",
    "            scaler_amp.step(optimizer)\n",
    "            scaler_amp.update()\n",
    "            train_loss += loss.item()\n",
    "        scheduler.step()\n",
    "        train_loss /= len(train_loader)\n",
    "        train_losses.append(train_loss)\n",
    "\n",
    "        model.eval()\n",
    "        test_loss = 0\n",
    "        with torch.no_grad():\n",
    "            for batch_X, batch_y in test_loader:\n",
    "                batch_X, batch_y = batch_X.to(device), batch_y.to(device)\n",
    "                outputs = model(batch_X)\n",
    "                loss = criterion(outputs.squeeze(), batch_y)\n",
    "                test_loss += loss.item()\n",
    "        test_loss /= len(test_loader)\n",
    "        test_losses.append(test_loss)\n",
    "\n",
    "        if epoch % 10 == 0:\n",
    "            print(f'Epoch {epoch+1}/{num_epochs}, Train Loss: {train_losses[-1]:.4f}, Test Loss: {test_losses[-1]:.4f}')\n",
    "\n",
    "    # Evaluation\n",
    "    model.eval()\n",
    "    predictions, actuals = [], []\n",
    "    with torch.no_grad():\n",
    "        for batch_X, batch_y in test_loader:\n",
    "            batch_X = batch_X.to(device)\n",
    "            outputs = model(batch_X)\n",
    "            predictions.extend(outputs.cpu().numpy())\n",
    "            actuals.extend(batch_y.numpy())\n",
    "\n",
    "    mae = mean_absolute_error(actuals, predictions)\n",
    "    rmse = np.sqrt(mean_squared_error(actuals, predictions))\n",
    "    r2 = r2_score(actuals, predictions)\n",
    "\n",
    "    print(f\"\\nLSTM + Graph Embedding Results: MAE: {mae:.4f}, RMSE: {rmse:.4f}, R²: {r2:.4f}\")\n",
    "\n",
    "    torch.save(model.state_dict(), MODELS_PATH / \"lstm_graph_embedding.pth\")\n",
    "    pd.DataFrame({\n",
    "        'MAE': [mae],\n",
    "        'RMSE': [rmse],\n",
    "        'R²': [r2]\n",
    "    }).to_csv(RESULTS_PATH / \"lstm_results_graph_embedding.csv\", index=False)\n",
    "\n",
    "    return model\n"
   ]
  },
  {
   "cell_type": "code",
   "execution_count": 19,
   "metadata": {},
   "outputs": [
    {
     "name": "stdout",
     "output_type": "stream",
     "text": [
      "Training on cuda\n",
      "Epoch 1/50, Train Loss: 7.0670, Test Loss: 6.6708\n",
      "Epoch 11/50, Train Loss: 5.8065, Test Loss: 7.0272\n",
      "Epoch 21/50, Train Loss: 5.6950, Test Loss: 6.8323\n",
      "Epoch 31/50, Train Loss: 5.5213, Test Loss: 6.8007\n",
      "Epoch 41/50, Train Loss: 5.4656, Test Loss: 6.9126\n",
      "\n",
      "LSTM + Graph Embedding Results: MAE: 1.3548, RMSE: 2.6320, R²: 0.8938\n"
     ]
    },
    {
     "data": {
      "text/plain": [
       "TrainDelayLSTM(\n",
       "  (lstm): LSTM(28, 64, num_layers=2, batch_first=True, dropout=0.2)\n",
       "  (fc): Linear(in_features=64, out_features=1, bias=True)\n",
       ")"
      ]
     },
     "execution_count": 19,
     "metadata": {},
     "output_type": "execute_result"
    }
   ],
   "source": [
    "train_lstm_embedding(sequence_length=5)"
   ]
  }
 ],
 "metadata": {
  "kernelspec": {
   "display_name": ".venv",
   "language": "python",
   "name": "python3"
  },
  "language_info": {
   "codemirror_mode": {
    "name": "ipython",
    "version": 3
   },
   "file_extension": ".py",
   "mimetype": "text/x-python",
   "name": "python",
   "nbconvert_exporter": "python",
   "pygments_lexer": "ipython3",
   "version": "3.10.0"
  }
 },
 "nbformat": 4,
 "nbformat_minor": 2
}
