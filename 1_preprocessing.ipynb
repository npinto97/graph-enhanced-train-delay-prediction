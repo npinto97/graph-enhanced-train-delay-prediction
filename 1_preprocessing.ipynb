{
 "cells": [
  {
   "cell_type": "markdown",
   "metadata": {},
   "source": [
    "# **Train Data Preprocessing Notebook**"
   ]
  },
  {
   "cell_type": "markdown",
   "metadata": {},
   "source": [
    "This notebook processes train data collected from https://trainstats.altervista.org/.\n",
    "\n",
    "The goal is to load, clean, and structure the dataset to make it suitable for further analysis.\n",
    "\n",
    "The dataset contains information about train schedules, delays, and stops."
   ]
  },
  {
   "cell_type": "code",
   "execution_count": 1,
   "metadata": {},
   "outputs": [],
   "source": [
    "import os\n",
    "import json\n",
    "import pandas as pd\n",
    "import numpy as np\n",
    "from tqdm import tqdm\n",
    "from pathlib import Path\n",
    "from datetime import datetime"
   ]
  },
  {
   "cell_type": "code",
   "execution_count": 2,
   "metadata": {},
   "outputs": [],
   "source": [
    "BASE_PATH = Path(\"data/raw/trains_dataset\")\n",
    "OUTPUT_PATH = Path(\"data/interim\")\n",
    "OUTPUT_PATH.mkdir(parents=True, exist_ok=True)"
   ]
  },
  {
   "cell_type": "markdown",
   "metadata": {},
   "source": [
    "**Loading JSON Data**\n",
    "\n",
    "We loop through each month and each daily JSON file, extracting:\n",
    "- General statistics (total monitored trains, delays, etc.).\n",
    "- Detailed train information (delays per train).\n",
    "- Alerts from RFI/TI about disruptions.\n",
    "\n",
    "Finally, all datasets are concatenated into full-year DataFrames."
   ]
  },
  {
   "cell_type": "code",
   "execution_count": 3,
   "metadata": {},
   "outputs": [],
   "source": [
    "def load_all_data(base_path=BASE_PATH):\n",
    "    all_data = []\n",
    "    \n",
    "    # Scan monthly folders (1_2024, 2_2024, ...)\n",
    "    for month_folder in sorted(base_path.iterdir()):\n",
    "        if month_folder.is_dir():\n",
    "            print(f\" Processing {month_folder.name}...\")\n",
    "            \n",
    "            for file_path in tqdm(sorted(month_folder.glob(\"*.json\"))):\n",
    "                try:\n",
    "                    with open(file_path, \"r\", encoding=\"utf-8\") as f:\n",
    "                        data = json.load(f)\n",
    "                        \n",
    "                        if \"treni\" in data:\n",
    "                            all_data.extend(data[\"treni\"])\n",
    "                except (json.JSONDecodeError, FileNotFoundError) as e:\n",
    "                    print(f\" Errore nel file {file_path}: {e}\")\n",
    "                    continue\n",
    "\n",
    "    return pd.DataFrame(all_data)"
   ]
  },
  {
   "cell_type": "code",
   "execution_count": 4,
   "metadata": {},
   "outputs": [
    {
     "name": "stdout",
     "output_type": "stream",
     "text": [
      " Processing 10_2024...\n"
     ]
    },
    {
     "name": "stderr",
     "output_type": "stream",
     "text": [
      "100%|██████████| 31/31 [00:03<00:00,  8.33it/s]\n"
     ]
    },
    {
     "name": "stdout",
     "output_type": "stream",
     "text": [
      " Processing 11_2024...\n"
     ]
    },
    {
     "name": "stderr",
     "output_type": "stream",
     "text": [
      "100%|██████████| 30/30 [00:03<00:00,  8.87it/s]\n"
     ]
    },
    {
     "name": "stdout",
     "output_type": "stream",
     "text": [
      " Processing 12_2024...\n"
     ]
    },
    {
     "name": "stderr",
     "output_type": "stream",
     "text": [
      "100%|██████████| 31/31 [00:04<00:00,  7.68it/s]\n"
     ]
    },
    {
     "name": "stdout",
     "output_type": "stream",
     "text": [
      " Processing 1_2024...\n"
     ]
    },
    {
     "name": "stderr",
     "output_type": "stream",
     "text": [
      "100%|██████████| 31/31 [00:03<00:00,  8.49it/s]\n"
     ]
    },
    {
     "name": "stdout",
     "output_type": "stream",
     "text": [
      " Processing 2_2024...\n"
     ]
    },
    {
     "name": "stderr",
     "output_type": "stream",
     "text": [
      "100%|██████████| 29/29 [00:03<00:00,  7.47it/s]\n"
     ]
    },
    {
     "name": "stdout",
     "output_type": "stream",
     "text": [
      " Processing 3_2024...\n"
     ]
    },
    {
     "name": "stderr",
     "output_type": "stream",
     "text": [
      "100%|██████████| 31/31 [00:04<00:00,  7.23it/s]\n"
     ]
    },
    {
     "name": "stdout",
     "output_type": "stream",
     "text": [
      " Processing 4_2024...\n"
     ]
    },
    {
     "name": "stderr",
     "output_type": "stream",
     "text": [
      "100%|██████████| 30/30 [00:02<00:00, 12.80it/s]\n"
     ]
    },
    {
     "name": "stdout",
     "output_type": "stream",
     "text": [
      " Processing 5_2024...\n"
     ]
    },
    {
     "name": "stderr",
     "output_type": "stream",
     "text": [
      "100%|██████████| 31/31 [00:04<00:00,  6.54it/s]\n"
     ]
    },
    {
     "name": "stdout",
     "output_type": "stream",
     "text": [
      " Processing 6_2024...\n"
     ]
    },
    {
     "name": "stderr",
     "output_type": "stream",
     "text": [
      "100%|██████████| 30/30 [00:02<00:00, 13.46it/s]\n"
     ]
    },
    {
     "name": "stdout",
     "output_type": "stream",
     "text": [
      " Processing 7_2024...\n"
     ]
    },
    {
     "name": "stderr",
     "output_type": "stream",
     "text": [
      "100%|██████████| 31/31 [00:05<00:00,  6.02it/s]\n"
     ]
    },
    {
     "name": "stdout",
     "output_type": "stream",
     "text": [
      " Processing 8_2024...\n"
     ]
    },
    {
     "name": "stderr",
     "output_type": "stream",
     "text": [
      "100%|██████████| 31/31 [00:02<00:00, 14.76it/s]\n"
     ]
    },
    {
     "name": "stdout",
     "output_type": "stream",
     "text": [
      " Processing 9_2024...\n"
     ]
    },
    {
     "name": "stderr",
     "output_type": "stream",
     "text": [
      "100%|██████████| 30/30 [00:05<00:00,  5.13it/s]\n"
     ]
    }
   ],
   "source": [
    "df = load_all_data()"
   ]
  },
  {
   "cell_type": "markdown",
   "metadata": {},
   "source": [
    "**Renaming Columns**\n",
    "\n",
    "The original column names are abbreviated. We'll map short codes to more descriptive column names."
   ]
  },
  {
   "cell_type": "code",
   "execution_count": 5,
   "metadata": {},
   "outputs": [],
   "source": [
    "column_mapping = {\n",
    "    \"_id\": \"train_id\",\n",
    "    \"n\": \"train_number\",\n",
    "    \"p\": \"departure_station\",\n",
    "    \"rp\": \"train_departure_delay\",\n",
    "    \"a\": \"arrival_station\",\n",
    "    \"ra\": \"train_arrival_delay\",\n",
    "    \"dl\": \"delay_info\",\n",
    "    \"c\": \"train_class\",\n",
    "    \"oo\": \"origin_station\",\n",
    "    \"od\": \"final_destination\",\n",
    "    \"op\": \"scheduled_departure_time\",\n",
    "    \"oa\": \"scheduled_arrival_time\",\n",
    "    \"pr\": \"train_status\",  # (Soppresso = Canceled)\n",
    "    \"sub\": \"train_subclass\",\n",
    "    \"sea\": \"extended_final_destination\",\n",
    "    \"cn\": \"connected_train\",\n",
    "    \"oae\": \"official_scheduled_arrival\",\n",
    "    \"oaz\": \"adjusted_scheduled_arrival\",\n",
    "    \"opz\": \"adjusted_scheduled_departure\",\n",
    "    \"ope\": \"official_planned_departure\",\n",
    "    \"sep\": \"starting_extended_point\",\n",
    "    \"fr\": \"route_stops\"\n",
    "}\n",
    "\n",
    "df.rename(columns=column_mapping, inplace=True)"
   ]
  },
  {
   "cell_type": "markdown",
   "metadata": {},
   "source": [
    "**Converting Time Columns**\n",
    "\n",
    "Convert UNIX timestamps into datetime format and ensure valid date ranges."
   ]
  },
  {
   "cell_type": "code",
   "execution_count": 6,
   "metadata": {},
   "outputs": [],
   "source": [
    "def safe_to_datetime(series):\n",
    "    \"\"\"Convert timestamps to datetime safely, ensuring valid ranges.\"\"\"\n",
    "    MIN_TIMESTAMP = 1703980800  # Dec 31, 2023\n",
    "    MAX_TIMESTAMP = 1735756800  # Jan 1, 2025\n",
    "\n",
    "    if pd.api.types.is_datetime64_any_dtype(series):\n",
    "        return series  \n",
    "\n",
    "    series = pd.to_numeric(series, errors=\"coerce\")\n",
    "\n",
    "    series = series.where((series >= MIN_TIMESTAMP) & (series <= MAX_TIMESTAMP))\n",
    "\n",
    "    return pd.to_datetime(series, unit=\"s\", errors=\"coerce\")\n",
    "\n",
    "time_columns = [\"scheduled_departure_time\", \"scheduled_arrival_time\",\n",
    "                \"adjusted_scheduled_arrival\", \"adjusted_scheduled_departure\"]\n",
    "\n",
    "for col in time_columns:\n",
    "    df[col] = safe_to_datetime(df[col])"
   ]
  },
  {
   "cell_type": "code",
   "execution_count": 7,
   "metadata": {},
   "outputs": [],
   "source": [
    "df[\"train_departure_delay\"] = pd.to_numeric(df[\"train_departure_delay\"], errors=\"coerce\")\n",
    "df[\"train_arrival_delay\"] = pd.to_numeric(df[\"train_arrival_delay\"], errors=\"coerce\")"
   ]
  },
  {
   "cell_type": "code",
   "execution_count": 8,
   "metadata": {},
   "outputs": [
    {
     "data": {
      "application/vnd.microsoft.datawrangler.viewer.v0+json": {
       "columns": [
        {
         "name": "index",
         "rawType": "int64",
         "type": "integer"
        },
        {
         "name": "train_id",
         "rawType": "object",
         "type": "string"
        },
        {
         "name": "train_number",
         "rawType": "object",
         "type": "string"
        },
        {
         "name": "departure_station",
         "rawType": "object",
         "type": "string"
        },
        {
         "name": "train_departure_delay",
         "rawType": "float64",
         "type": "float"
        },
        {
         "name": "arrival_station",
         "rawType": "object",
         "type": "string"
        },
        {
         "name": "train_arrival_delay",
         "rawType": "float64",
         "type": "float"
        },
        {
         "name": "train_status",
         "rawType": "object",
         "type": "unknown"
        },
        {
         "name": "train_class",
         "rawType": "object",
         "type": "string"
        },
        {
         "name": "scheduled_departure_time",
         "rawType": "datetime64[ns]",
         "type": "datetime"
        },
        {
         "name": "scheduled_arrival_time",
         "rawType": "datetime64[ns]",
         "type": "datetime"
        },
        {
         "name": "route_stops",
         "rawType": "object",
         "type": "unknown"
        },
        {
         "name": "delay_info",
         "rawType": "object",
         "type": "unknown"
        },
        {
         "name": "origin_station",
         "rawType": "object",
         "type": "unknown"
        },
        {
         "name": "final_destination",
         "rawType": "object",
         "type": "unknown"
        },
        {
         "name": "connected_train",
         "rawType": "object",
         "type": "unknown"
        },
        {
         "name": "train_subclass",
         "rawType": "object",
         "type": "unknown"
        },
        {
         "name": "adjusted_scheduled_arrival",
         "rawType": "datetime64[ns]",
         "type": "datetime"
        },
        {
         "name": "extended_final_destination",
         "rawType": "object",
         "type": "unknown"
        },
        {
         "name": "official_scheduled_arrival",
         "rawType": "object",
         "type": "unknown"
        },
        {
         "name": "starting_extended_point",
         "rawType": "object",
         "type": "unknown"
        },
        {
         "name": "official_planned_departure",
         "rawType": "object",
         "type": "unknown"
        },
        {
         "name": "adjusted_scheduled_departure",
         "rawType": "datetime64[ns]",
         "type": "datetime"
        }
       ],
       "conversionMethod": "pd.DataFrame",
       "ref": "4015a0a1-bcbd-47e4-a74b-ceb8fe316ed0",
       "rows": [
        [
         "0",
         "10911-1727734500-TUlMQU5PIENFTlRSQUxF",
         "10911",
         "MILANO CENTRALE",
         null,
         "BRESCIA",
         null,
         "Soppresso",
         "REG",
         "2024-09-30 22:15:00",
         "2024-09-30 23:35:00",
         "[{'n': 'MILANO CENTRALE', 'ra': 'N', 'rp': 'S', 'oa': 0, 'op': 1727734500}, {'n': 'MILANO LAMBRATE', 'ra': 'S', 'rp': 'S', 'oa': 1727734860, 'op': 1727734920}, {'n': 'PIOLTELLO LIMITO', 'ra': 'S', 'rp': 'S', 'oa': 1727735340, 'op': 1727735400}, {'n': 'MELZO', 'ra': 'S', 'rp': 'S', 'oa': 1727735700, 'op': 1727735760}, {'n': 'CASSANO D`ADDA', 'ra': 'S', 'rp': 'S', 'oa': 1727736120, 'op': 1727736180}, {'n': 'TREVIGLIO', 'ra': 'S', 'rp': 'S', 'oa': 1727736540, 'op': 1727736660}, {'n': 'VIDALENGO', 'ra': 'S', 'rp': 'S', 'oa': 1727736900, 'op': 1727736960}, {'n': 'MORENGO BARIANO', 'ra': 'S', 'rp': 'S', 'oa': 1727737200, 'op': 1727737260}, {'n': 'ROMANO', 'ra': 'S', 'rp': 'S', 'oa': 1727737500, 'op': 1727737560}, {'n': 'CALCIO', 'ra': 'S', 'rp': 'S', 'oa': 1727737860, 'op': 1727737920}, {'n': 'CHIARI', 'ra': 'S', 'rp': 'S', 'oa': 1727738220, 'op': 1727738280}, {'n': 'ROVATO', 'ra': 'S', 'rp': 'S', 'oa': 1727738580, 'op': 1727738640}, {'n': 'BRESCIA', 'ra': 'S', 'rp': 'N', 'oa': 1727739300, 'op': 0}]",
         null,
         null,
         null,
         null,
         null,
         null,
         null,
         null,
         null,
         null,
         null
        ],
        [
         "1",
         "17431-1727735880-Qk9MT0dOQSBDLkxF",
         "17431",
         "BOLOGNA C.LE",
         "1.0",
         "FAENZA",
         "-1.0",
         null,
         "REG",
         "2024-09-30 22:38:00",
         "2024-09-30 23:25:00",
         "[{'n': 'BOLOGNA C.LE', 'ra': 'N', 'rp': '1', 'oa': 0, 'op': 1727735880}, {'n': 'S.LAZZARO DI SAVENA', 'ra': '2', 'rp': '2', 'oa': 1727736300, 'op': 1727736360}, {'n': \"OZZANO DELL'EMILIA\", 'ra': '3', 'rp': '2', 'oa': 1727736660, 'op': 1727736720}, {'n': 'CASTEL S.PIETRO TERME', 'ra': '3', 'rp': '4', 'oa': 1727737080, 'op': 1727737140}, {'n': 'IMOLA', 'ra': '3', 'rp': '4', 'oa': 1727737620, 'op': 1727737680}, {'n': 'CASTELBOLOGNESE', 'ra': '1', 'rp': '2', 'oa': 1727738160, 'op': 1727738220}, {'n': 'FAENZA', 'ra': '-1', 'rp': 'N', 'oa': 1727738700, 'op': 0}]",
         null,
         null,
         null,
         null,
         null,
         null,
         null,
         null,
         null,
         null,
         null
        ],
        [
         "2",
         "18650-1727735100-RklSRU5aRSBTLk0uTi4=",
         "18650",
         "FIRENZE S.M.N.",
         "1.0",
         "PISTOIA",
         "1.0",
         null,
         "REG",
         "2024-09-30 22:25:00",
         "2024-09-30 23:13:00",
         "[{'n': 'FIRENZE S.M.N.', 'ra': 'N', 'rp': '1', 'oa': 0, 'op': 1727735100}, {'n': 'FIRENZE RIFREDI', 'ra': '0', 'rp': '1', 'oa': 1727735400, 'op': 1727735460}, {'n': 'FIRENZE CASTELLO', 'ra': '0', 'rp': '1', 'oa': 1727735670, 'op': 1727735700}, {'n': 'ZAMBRA', 'ra': '1', 'rp': '3', 'oa': 1727735790, 'op': 1727735820}, {'n': 'SESTO FIORENTINO', 'ra': 'n.d.', 'rp': '3', 'oa': 1727736000, 'op': 1727736060}, {'n': 'IL NETO', 'ra': 'n.d.', 'rp': '3', 'oa': 1727736150, 'op': 1727736180}, {'n': 'PRATIGNONE', 'ra': 'n.d.', 'rp': '3', 'oa': 1727736330, 'op': 1727736360}, {'n': 'CALENZANO', 'ra': 'n.d.', 'rp': '3', 'oa': 1727736510, 'op': 1727736540}, {'n': 'PRATO CENTRALE', 'ra': '3', 'rp': '4', 'oa': 1727736720, 'op': 1727736780}, {'n': 'PRATO PORTA AL SERRAGLIO', 'ra': 'n.d.', 'rp': '4', 'oa': 1727736900, 'op': 1727736960}, {'n': 'PRATO BORGONUOVO', 'ra': 'n.d.', 'rp': '3', 'oa': 1727737140, 'op': 1727737200}, {'n': 'MONTALE AGLIANA', 'ra': 'n.d.', 'rp': '3', 'oa': 1727737530, 'op': 1727737560}, {'n': 'PISTOIA', 'ra': '1', 'rp': 'N', 'oa': 1727737980, 'op': 0}]",
         null,
         null,
         null,
         null,
         null,
         null,
         null,
         null,
         null,
         null,
         null
        ],
        [
         "3",
         "5636-1727735100-UFVOVEEgUkFJU0k=",
         "5636",
         "PUNTA RAISI",
         "1.0",
         "PALERMO CENTRALE",
         "-1.0",
         null,
         "REG",
         "2024-09-30 22:25:00",
         "2024-09-30 23:05:00",
         "[{'n': 'PUNTA RAISI', 'ra': 'N', 'rp': '1', 'oa': 0, 'op': 1727735100}, {'n': 'FRANCIA', 'ra': '-1', 'rp': '0', 'oa': 1727736360, 'op': 1727736420}, {'n': 'PALERMO NOTARBARTOLO', 'ra': '-1', 'rp': '1', 'oa': 1727736660, 'op': 1727736720}, {'n': 'LOLLI', 'ra': '2', 'rp': '2', 'oa': 1727736840, 'op': 1727736900}, {'n': 'PALAZZO REALE-ORLEANS', 'ra': '-1', 'rp': '1', 'oa': 1727737140, 'op': 1727737200}, {'n': 'PALERMO CENTRALE', 'ra': '-1', 'rp': 'N', 'oa': 1727737500, 'op': 0}]",
         null,
         null,
         null,
         null,
         null,
         null,
         null,
         null,
         null,
         null,
         null
        ],
        [
         "4",
         "17099-1727734140-VkVORVpJQSBTQU5UQSBMVUNJQQ==",
         "17099",
         "VENEZIA SANTA LUCIA",
         "3.0",
         "PORTOGRUARO CAORLE",
         "2.0",
         null,
         "REG",
         "2024-09-30 22:09:00",
         "2024-09-30 23:23:00",
         "[{'n': 'VENEZIA SANTA LUCIA', 'ra': 'N', 'rp': '3', 'oa': 0, 'op': 1727734140}, {'n': 'VENEZIA PORTO MARGHERA', 'ra': 'n.d.', 'rp': '3', 'oa': 1727734560, 'op': 1727734620}, {'n': 'VENEZIA MESTRE', 'ra': '2', 'rp': '3', 'oa': 1727734800, 'op': 1727734920}, {'n': 'VENEZIA CARPENEDO', 'ra': 'n.d.', 'rp': '4', 'oa': 1727735280, 'op': 1727735340}, {'n': 'GAGGIO PORTA EST', 'ra': 'n.d.', 'rp': '4', 'oa': 1727735580, 'op': 1727735640}, {'n': 'QUARTO D`ALTINO', 'ra': '3', 'rp': '6', 'oa': 1727735880, 'op': 1727735940}, {'n': 'MEOLO', 'ra': 'n.d.', 'rp': '6', 'oa': 1727736360, 'op': 1727736420}, {'n': 'FOSSALTA DI PIAVE', 'ra': 'n.d.', 'rp': '8', 'oa': 1727736600, 'op': 1727736660}, {'n': 'S. DONA` DI PIAVE', 'ra': '5', 'rp': '7', 'oa': 1727736900, 'op': 1727736960}, {'n': 'CEGGIA', 'ra': 'n.d.', 'rp': '7', 'oa': 1727737380, 'op': 1727737440}, {'n': 'S. STINO DI LIVENZA', 'ra': '4', 'rp': '6', 'oa': 1727737680, 'op': 1727737740}, {'n': 'LISON', 'ra': 'n.d.', 'rp': '10', 'oa': 1727737980, 'op': 1727738040}, {'n': 'PORTOGRUARO CAORLE', 'ra': '2', 'rp': 'N', 'oa': 1727738580, 'op': 0}]",
         null,
         null,
         null,
         null,
         null,
         null,
         null,
         null,
         null,
         null,
         null
        ]
       ],
       "shape": {
        "columns": 22,
        "rows": 5
       }
      },
      "text/html": [
       "<div>\n",
       "<style scoped>\n",
       "    .dataframe tbody tr th:only-of-type {\n",
       "        vertical-align: middle;\n",
       "    }\n",
       "\n",
       "    .dataframe tbody tr th {\n",
       "        vertical-align: top;\n",
       "    }\n",
       "\n",
       "    .dataframe thead th {\n",
       "        text-align: right;\n",
       "    }\n",
       "</style>\n",
       "<table border=\"1\" class=\"dataframe\">\n",
       "  <thead>\n",
       "    <tr style=\"text-align: right;\">\n",
       "      <th></th>\n",
       "      <th>train_id</th>\n",
       "      <th>train_number</th>\n",
       "      <th>departure_station</th>\n",
       "      <th>train_departure_delay</th>\n",
       "      <th>arrival_station</th>\n",
       "      <th>train_arrival_delay</th>\n",
       "      <th>train_status</th>\n",
       "      <th>train_class</th>\n",
       "      <th>scheduled_departure_time</th>\n",
       "      <th>scheduled_arrival_time</th>\n",
       "      <th>...</th>\n",
       "      <th>origin_station</th>\n",
       "      <th>final_destination</th>\n",
       "      <th>connected_train</th>\n",
       "      <th>train_subclass</th>\n",
       "      <th>adjusted_scheduled_arrival</th>\n",
       "      <th>extended_final_destination</th>\n",
       "      <th>official_scheduled_arrival</th>\n",
       "      <th>starting_extended_point</th>\n",
       "      <th>official_planned_departure</th>\n",
       "      <th>adjusted_scheduled_departure</th>\n",
       "    </tr>\n",
       "  </thead>\n",
       "  <tbody>\n",
       "    <tr>\n",
       "      <th>0</th>\n",
       "      <td>10911-1727734500-TUlMQU5PIENFTlRSQUxF</td>\n",
       "      <td>10911</td>\n",
       "      <td>MILANO CENTRALE</td>\n",
       "      <td>NaN</td>\n",
       "      <td>BRESCIA</td>\n",
       "      <td>NaN</td>\n",
       "      <td>Soppresso</td>\n",
       "      <td>REG</td>\n",
       "      <td>2024-09-30 22:15:00</td>\n",
       "      <td>2024-09-30 23:35:00</td>\n",
       "      <td>...</td>\n",
       "      <td>NaN</td>\n",
       "      <td>NaN</td>\n",
       "      <td>NaN</td>\n",
       "      <td>NaN</td>\n",
       "      <td>NaT</td>\n",
       "      <td>NaN</td>\n",
       "      <td>NaN</td>\n",
       "      <td>NaN</td>\n",
       "      <td>NaN</td>\n",
       "      <td>NaT</td>\n",
       "    </tr>\n",
       "    <tr>\n",
       "      <th>1</th>\n",
       "      <td>17431-1727735880-Qk9MT0dOQSBDLkxF</td>\n",
       "      <td>17431</td>\n",
       "      <td>BOLOGNA C.LE</td>\n",
       "      <td>1.0</td>\n",
       "      <td>FAENZA</td>\n",
       "      <td>-1.0</td>\n",
       "      <td>NaN</td>\n",
       "      <td>REG</td>\n",
       "      <td>2024-09-30 22:38:00</td>\n",
       "      <td>2024-09-30 23:25:00</td>\n",
       "      <td>...</td>\n",
       "      <td>NaN</td>\n",
       "      <td>NaN</td>\n",
       "      <td>NaN</td>\n",
       "      <td>NaN</td>\n",
       "      <td>NaT</td>\n",
       "      <td>NaN</td>\n",
       "      <td>NaN</td>\n",
       "      <td>NaN</td>\n",
       "      <td>NaN</td>\n",
       "      <td>NaT</td>\n",
       "    </tr>\n",
       "    <tr>\n",
       "      <th>2</th>\n",
       "      <td>18650-1727735100-RklSRU5aRSBTLk0uTi4=</td>\n",
       "      <td>18650</td>\n",
       "      <td>FIRENZE S.M.N.</td>\n",
       "      <td>1.0</td>\n",
       "      <td>PISTOIA</td>\n",
       "      <td>1.0</td>\n",
       "      <td>NaN</td>\n",
       "      <td>REG</td>\n",
       "      <td>2024-09-30 22:25:00</td>\n",
       "      <td>2024-09-30 23:13:00</td>\n",
       "      <td>...</td>\n",
       "      <td>NaN</td>\n",
       "      <td>NaN</td>\n",
       "      <td>NaN</td>\n",
       "      <td>NaN</td>\n",
       "      <td>NaT</td>\n",
       "      <td>NaN</td>\n",
       "      <td>NaN</td>\n",
       "      <td>NaN</td>\n",
       "      <td>NaN</td>\n",
       "      <td>NaT</td>\n",
       "    </tr>\n",
       "    <tr>\n",
       "      <th>3</th>\n",
       "      <td>5636-1727735100-UFVOVEEgUkFJU0k=</td>\n",
       "      <td>5636</td>\n",
       "      <td>PUNTA RAISI</td>\n",
       "      <td>1.0</td>\n",
       "      <td>PALERMO CENTRALE</td>\n",
       "      <td>-1.0</td>\n",
       "      <td>NaN</td>\n",
       "      <td>REG</td>\n",
       "      <td>2024-09-30 22:25:00</td>\n",
       "      <td>2024-09-30 23:05:00</td>\n",
       "      <td>...</td>\n",
       "      <td>NaN</td>\n",
       "      <td>NaN</td>\n",
       "      <td>NaN</td>\n",
       "      <td>NaN</td>\n",
       "      <td>NaT</td>\n",
       "      <td>NaN</td>\n",
       "      <td>NaN</td>\n",
       "      <td>NaN</td>\n",
       "      <td>NaN</td>\n",
       "      <td>NaT</td>\n",
       "    </tr>\n",
       "    <tr>\n",
       "      <th>4</th>\n",
       "      <td>17099-1727734140-VkVORVpJQSBTQU5UQSBMVUNJQQ==</td>\n",
       "      <td>17099</td>\n",
       "      <td>VENEZIA SANTA LUCIA</td>\n",
       "      <td>3.0</td>\n",
       "      <td>PORTOGRUARO CAORLE</td>\n",
       "      <td>2.0</td>\n",
       "      <td>NaN</td>\n",
       "      <td>REG</td>\n",
       "      <td>2024-09-30 22:09:00</td>\n",
       "      <td>2024-09-30 23:23:00</td>\n",
       "      <td>...</td>\n",
       "      <td>NaN</td>\n",
       "      <td>NaN</td>\n",
       "      <td>NaN</td>\n",
       "      <td>NaN</td>\n",
       "      <td>NaT</td>\n",
       "      <td>NaN</td>\n",
       "      <td>NaN</td>\n",
       "      <td>NaN</td>\n",
       "      <td>NaN</td>\n",
       "      <td>NaT</td>\n",
       "    </tr>\n",
       "  </tbody>\n",
       "</table>\n",
       "<p>5 rows × 22 columns</p>\n",
       "</div>"
      ],
      "text/plain": [
       "                                        train_id train_number  \\\n",
       "0          10911-1727734500-TUlMQU5PIENFTlRSQUxF        10911   \n",
       "1              17431-1727735880-Qk9MT0dOQSBDLkxF        17431   \n",
       "2          18650-1727735100-RklSRU5aRSBTLk0uTi4=        18650   \n",
       "3               5636-1727735100-UFVOVEEgUkFJU0k=         5636   \n",
       "4  17099-1727734140-VkVORVpJQSBTQU5UQSBMVUNJQQ==        17099   \n",
       "\n",
       "     departure_station  train_departure_delay     arrival_station  \\\n",
       "0      MILANO CENTRALE                    NaN             BRESCIA   \n",
       "1         BOLOGNA C.LE                    1.0              FAENZA   \n",
       "2       FIRENZE S.M.N.                    1.0             PISTOIA   \n",
       "3          PUNTA RAISI                    1.0    PALERMO CENTRALE   \n",
       "4  VENEZIA SANTA LUCIA                    3.0  PORTOGRUARO CAORLE   \n",
       "\n",
       "   train_arrival_delay train_status train_class scheduled_departure_time  \\\n",
       "0                  NaN    Soppresso         REG      2024-09-30 22:15:00   \n",
       "1                 -1.0          NaN         REG      2024-09-30 22:38:00   \n",
       "2                  1.0          NaN         REG      2024-09-30 22:25:00   \n",
       "3                 -1.0          NaN         REG      2024-09-30 22:25:00   \n",
       "4                  2.0          NaN         REG      2024-09-30 22:09:00   \n",
       "\n",
       "  scheduled_arrival_time  ... origin_station final_destination  \\\n",
       "0    2024-09-30 23:35:00  ...            NaN               NaN   \n",
       "1    2024-09-30 23:25:00  ...            NaN               NaN   \n",
       "2    2024-09-30 23:13:00  ...            NaN               NaN   \n",
       "3    2024-09-30 23:05:00  ...            NaN               NaN   \n",
       "4    2024-09-30 23:23:00  ...            NaN               NaN   \n",
       "\n",
       "  connected_train train_subclass adjusted_scheduled_arrival  \\\n",
       "0             NaN            NaN                        NaT   \n",
       "1             NaN            NaN                        NaT   \n",
       "2             NaN            NaN                        NaT   \n",
       "3             NaN            NaN                        NaT   \n",
       "4             NaN            NaN                        NaT   \n",
       "\n",
       "  extended_final_destination official_scheduled_arrival  \\\n",
       "0                        NaN                        NaN   \n",
       "1                        NaN                        NaN   \n",
       "2                        NaN                        NaN   \n",
       "3                        NaN                        NaN   \n",
       "4                        NaN                        NaN   \n",
       "\n",
       "  starting_extended_point official_planned_departure  \\\n",
       "0                     NaN                        NaN   \n",
       "1                     NaN                        NaN   \n",
       "2                     NaN                        NaN   \n",
       "3                     NaN                        NaN   \n",
       "4                     NaN                        NaN   \n",
       "\n",
       "  adjusted_scheduled_departure  \n",
       "0                          NaT  \n",
       "1                          NaT  \n",
       "2                          NaT  \n",
       "3                          NaT  \n",
       "4                          NaT  \n",
       "\n",
       "[5 rows x 22 columns]"
      ]
     },
     "execution_count": 8,
     "metadata": {},
     "output_type": "execute_result"
    }
   ],
   "source": [
    "df.head()"
   ]
  },
  {
   "cell_type": "markdown",
   "metadata": {},
   "source": [
    "**Handling Train Stops**\n",
    "\n",
    "The \"route_stops\" column contains a list of dictionaries with stop details. We normalize them into a separate DataFrame."
   ]
  },
  {
   "cell_type": "code",
   "execution_count": 9,
   "metadata": {},
   "outputs": [],
   "source": [
    "df_exploded = df.explode(\"route_stops\").reset_index(drop=True)\n",
    "\n",
    "# Remove any NaN values in \"route_stops\"\n",
    "df_exploded = df_exploded[df_exploded[\"route_stops\"].notna()]\n",
    "\n",
    "# Normalize the stops\n",
    "df_stops = pd.json_normalize(df_exploded[\"route_stops\"])\n",
    "\n",
    "stop_column_mapping = {\n",
    "    \"n\": \"stop_name\",\n",
    "    \"ra\": \"stop_arrival_delay\",\n",
    "    \"rp\": \"stop_departure_delay\",\n",
    "    \"br\": \"actual_platform\",\n",
    "    \"bp\": \"planned_platform\",\n",
    "    \"oa\": \"stop_arrival_time\",\n",
    "    \"op\": \"stop_departure_time\"\n",
    "}\n",
    "\n",
    "df_stops.rename(columns=stop_column_mapping, inplace=True)\n",
    "\n",
    "df_stops[\"train_id\"] = df_exploded[\"train_id\"].values\n",
    "df_stops[\"train_number\"] = df_exploded[\"train_number\"].values\n",
    "\n",
    "time_columns = [\"stop_arrival_time\", \"stop_departure_time\"]\n",
    "for col in time_columns:\n",
    "    df_stops[col] = safe_to_datetime(df_stops[col])"
   ]
  },
  {
   "cell_type": "code",
   "execution_count": 10,
   "metadata": {},
   "outputs": [
    {
     "data": {
      "application/vnd.microsoft.datawrangler.viewer.v0+json": {
       "columns": [
        {
         "name": "index",
         "rawType": "int64",
         "type": "integer"
        },
        {
         "name": "stop_name",
         "rawType": "object",
         "type": "string"
        },
        {
         "name": "stop_arrival_delay",
         "rawType": "object",
         "type": "string"
        },
        {
         "name": "stop_departure_delay",
         "rawType": "object",
         "type": "string"
        },
        {
         "name": "stop_arrival_time",
         "rawType": "datetime64[ns]",
         "type": "datetime"
        },
        {
         "name": "stop_departure_time",
         "rawType": "datetime64[ns]",
         "type": "datetime"
        },
        {
         "name": "actual_platform",
         "rawType": "object",
         "type": "unknown"
        },
        {
         "name": "planned_platform",
         "rawType": "object",
         "type": "unknown"
        },
        {
         "name": "train_id",
         "rawType": "object",
         "type": "string"
        },
        {
         "name": "train_number",
         "rawType": "object",
         "type": "string"
        }
       ],
       "conversionMethod": "pd.DataFrame",
       "ref": "7fa9d7a3-0885-4d6c-bd58-589540a07d7f",
       "rows": [
        [
         "0",
         "MILANO CENTRALE",
         "N",
         "S",
         null,
         "2024-09-30 22:15:00",
         null,
         null,
         "10911-1727734500-TUlMQU5PIENFTlRSQUxF",
         "10911"
        ],
        [
         "1",
         "MILANO LAMBRATE",
         "S",
         "S",
         "2024-09-30 22:21:00",
         "2024-09-30 22:22:00",
         null,
         null,
         "10911-1727734500-TUlMQU5PIENFTlRSQUxF",
         "10911"
        ],
        [
         "2",
         "PIOLTELLO LIMITO",
         "S",
         "S",
         "2024-09-30 22:29:00",
         "2024-09-30 22:30:00",
         null,
         null,
         "10911-1727734500-TUlMQU5PIENFTlRSQUxF",
         "10911"
        ],
        [
         "3",
         "MELZO",
         "S",
         "S",
         "2024-09-30 22:35:00",
         "2024-09-30 22:36:00",
         null,
         null,
         "10911-1727734500-TUlMQU5PIENFTlRSQUxF",
         "10911"
        ],
        [
         "4",
         "CASSANO D`ADDA",
         "S",
         "S",
         "2024-09-30 22:42:00",
         "2024-09-30 22:43:00",
         null,
         null,
         "10911-1727734500-TUlMQU5PIENFTlRSQUxF",
         "10911"
        ]
       ],
       "shape": {
        "columns": 9,
        "rows": 5
       }
      },
      "text/html": [
       "<div>\n",
       "<style scoped>\n",
       "    .dataframe tbody tr th:only-of-type {\n",
       "        vertical-align: middle;\n",
       "    }\n",
       "\n",
       "    .dataframe tbody tr th {\n",
       "        vertical-align: top;\n",
       "    }\n",
       "\n",
       "    .dataframe thead th {\n",
       "        text-align: right;\n",
       "    }\n",
       "</style>\n",
       "<table border=\"1\" class=\"dataframe\">\n",
       "  <thead>\n",
       "    <tr style=\"text-align: right;\">\n",
       "      <th></th>\n",
       "      <th>stop_name</th>\n",
       "      <th>stop_arrival_delay</th>\n",
       "      <th>stop_departure_delay</th>\n",
       "      <th>stop_arrival_time</th>\n",
       "      <th>stop_departure_time</th>\n",
       "      <th>actual_platform</th>\n",
       "      <th>planned_platform</th>\n",
       "      <th>train_id</th>\n",
       "      <th>train_number</th>\n",
       "    </tr>\n",
       "  </thead>\n",
       "  <tbody>\n",
       "    <tr>\n",
       "      <th>0</th>\n",
       "      <td>MILANO CENTRALE</td>\n",
       "      <td>N</td>\n",
       "      <td>S</td>\n",
       "      <td>NaT</td>\n",
       "      <td>2024-09-30 22:15:00</td>\n",
       "      <td>NaN</td>\n",
       "      <td>NaN</td>\n",
       "      <td>10911-1727734500-TUlMQU5PIENFTlRSQUxF</td>\n",
       "      <td>10911</td>\n",
       "    </tr>\n",
       "    <tr>\n",
       "      <th>1</th>\n",
       "      <td>MILANO LAMBRATE</td>\n",
       "      <td>S</td>\n",
       "      <td>S</td>\n",
       "      <td>2024-09-30 22:21:00</td>\n",
       "      <td>2024-09-30 22:22:00</td>\n",
       "      <td>NaN</td>\n",
       "      <td>NaN</td>\n",
       "      <td>10911-1727734500-TUlMQU5PIENFTlRSQUxF</td>\n",
       "      <td>10911</td>\n",
       "    </tr>\n",
       "    <tr>\n",
       "      <th>2</th>\n",
       "      <td>PIOLTELLO LIMITO</td>\n",
       "      <td>S</td>\n",
       "      <td>S</td>\n",
       "      <td>2024-09-30 22:29:00</td>\n",
       "      <td>2024-09-30 22:30:00</td>\n",
       "      <td>NaN</td>\n",
       "      <td>NaN</td>\n",
       "      <td>10911-1727734500-TUlMQU5PIENFTlRSQUxF</td>\n",
       "      <td>10911</td>\n",
       "    </tr>\n",
       "    <tr>\n",
       "      <th>3</th>\n",
       "      <td>MELZO</td>\n",
       "      <td>S</td>\n",
       "      <td>S</td>\n",
       "      <td>2024-09-30 22:35:00</td>\n",
       "      <td>2024-09-30 22:36:00</td>\n",
       "      <td>NaN</td>\n",
       "      <td>NaN</td>\n",
       "      <td>10911-1727734500-TUlMQU5PIENFTlRSQUxF</td>\n",
       "      <td>10911</td>\n",
       "    </tr>\n",
       "    <tr>\n",
       "      <th>4</th>\n",
       "      <td>CASSANO D`ADDA</td>\n",
       "      <td>S</td>\n",
       "      <td>S</td>\n",
       "      <td>2024-09-30 22:42:00</td>\n",
       "      <td>2024-09-30 22:43:00</td>\n",
       "      <td>NaN</td>\n",
       "      <td>NaN</td>\n",
       "      <td>10911-1727734500-TUlMQU5PIENFTlRSQUxF</td>\n",
       "      <td>10911</td>\n",
       "    </tr>\n",
       "  </tbody>\n",
       "</table>\n",
       "</div>"
      ],
      "text/plain": [
       "          stop_name stop_arrival_delay stop_departure_delay  \\\n",
       "0   MILANO CENTRALE                  N                    S   \n",
       "1   MILANO LAMBRATE                  S                    S   \n",
       "2  PIOLTELLO LIMITO                  S                    S   \n",
       "3             MELZO                  S                    S   \n",
       "4    CASSANO D`ADDA                  S                    S   \n",
       "\n",
       "    stop_arrival_time stop_departure_time actual_platform planned_platform  \\\n",
       "0                 NaT 2024-09-30 22:15:00             NaN              NaN   \n",
       "1 2024-09-30 22:21:00 2024-09-30 22:22:00             NaN              NaN   \n",
       "2 2024-09-30 22:29:00 2024-09-30 22:30:00             NaN              NaN   \n",
       "3 2024-09-30 22:35:00 2024-09-30 22:36:00             NaN              NaN   \n",
       "4 2024-09-30 22:42:00 2024-09-30 22:43:00             NaN              NaN   \n",
       "\n",
       "                                train_id train_number  \n",
       "0  10911-1727734500-TUlMQU5PIENFTlRSQUxF        10911  \n",
       "1  10911-1727734500-TUlMQU5PIENFTlRSQUxF        10911  \n",
       "2  10911-1727734500-TUlMQU5PIENFTlRSQUxF        10911  \n",
       "3  10911-1727734500-TUlMQU5PIENFTlRSQUxF        10911  \n",
       "4  10911-1727734500-TUlMQU5PIENFTlRSQUxF        10911  "
      ]
     },
     "execution_count": 10,
     "metadata": {},
     "output_type": "execute_result"
    }
   ],
   "source": [
    "df_stops.head()"
   ]
  },
  {
   "cell_type": "markdown",
   "metadata": {},
   "source": [
    "**Merging Dataframes**\n",
    "\n",
    "Merge the train and stops datasets into a single DataFrame."
   ]
  },
  {
   "cell_type": "code",
   "execution_count": 11,
   "metadata": {},
   "outputs": [],
   "source": [
    "df_merged = df.merge(df_stops, on=\"train_id\", how=\"left\")"
   ]
  },
  {
   "cell_type": "code",
   "execution_count": 12,
   "metadata": {},
   "outputs": [
    {
     "data": {
      "application/vnd.microsoft.datawrangler.viewer.v0+json": {
       "columns": [
        {
         "name": "index",
         "rawType": "int64",
         "type": "integer"
        },
        {
         "name": "train_id",
         "rawType": "object",
         "type": "string"
        },
        {
         "name": "train_number_x",
         "rawType": "object",
         "type": "string"
        },
        {
         "name": "departure_station",
         "rawType": "object",
         "type": "string"
        },
        {
         "name": "train_departure_delay",
         "rawType": "float64",
         "type": "float"
        },
        {
         "name": "arrival_station",
         "rawType": "object",
         "type": "string"
        },
        {
         "name": "train_arrival_delay",
         "rawType": "float64",
         "type": "float"
        },
        {
         "name": "train_status",
         "rawType": "object",
         "type": "string"
        },
        {
         "name": "train_class",
         "rawType": "object",
         "type": "string"
        },
        {
         "name": "scheduled_departure_time",
         "rawType": "datetime64[ns]",
         "type": "datetime"
        },
        {
         "name": "scheduled_arrival_time",
         "rawType": "datetime64[ns]",
         "type": "datetime"
        },
        {
         "name": "route_stops",
         "rawType": "object",
         "type": "unknown"
        },
        {
         "name": "delay_info",
         "rawType": "object",
         "type": "unknown"
        },
        {
         "name": "origin_station",
         "rawType": "object",
         "type": "unknown"
        },
        {
         "name": "final_destination",
         "rawType": "object",
         "type": "unknown"
        },
        {
         "name": "connected_train",
         "rawType": "object",
         "type": "unknown"
        },
        {
         "name": "train_subclass",
         "rawType": "object",
         "type": "unknown"
        },
        {
         "name": "adjusted_scheduled_arrival",
         "rawType": "datetime64[ns]",
         "type": "datetime"
        },
        {
         "name": "extended_final_destination",
         "rawType": "object",
         "type": "unknown"
        },
        {
         "name": "official_scheduled_arrival",
         "rawType": "object",
         "type": "unknown"
        },
        {
         "name": "starting_extended_point",
         "rawType": "object",
         "type": "unknown"
        },
        {
         "name": "official_planned_departure",
         "rawType": "object",
         "type": "unknown"
        },
        {
         "name": "adjusted_scheduled_departure",
         "rawType": "datetime64[ns]",
         "type": "datetime"
        },
        {
         "name": "stop_name",
         "rawType": "object",
         "type": "string"
        },
        {
         "name": "stop_arrival_delay",
         "rawType": "object",
         "type": "string"
        },
        {
         "name": "stop_departure_delay",
         "rawType": "object",
         "type": "string"
        },
        {
         "name": "stop_arrival_time",
         "rawType": "datetime64[ns]",
         "type": "datetime"
        },
        {
         "name": "stop_departure_time",
         "rawType": "datetime64[ns]",
         "type": "datetime"
        },
        {
         "name": "actual_platform",
         "rawType": "object",
         "type": "unknown"
        },
        {
         "name": "planned_platform",
         "rawType": "object",
         "type": "unknown"
        },
        {
         "name": "train_number_y",
         "rawType": "object",
         "type": "string"
        }
       ],
       "conversionMethod": "pd.DataFrame",
       "ref": "42b98eb7-e567-4e08-867c-ae4ab8b00d2a",
       "rows": [
        [
         "0",
         "10911-1727734500-TUlMQU5PIENFTlRSQUxF",
         "10911",
         "MILANO CENTRALE",
         null,
         "BRESCIA",
         null,
         "Soppresso",
         "REG",
         "2024-09-30 22:15:00",
         "2024-09-30 23:35:00",
         "[{'n': 'MILANO CENTRALE', 'ra': 'N', 'rp': 'S', 'oa': 0, 'op': 1727734500}, {'n': 'MILANO LAMBRATE', 'ra': 'S', 'rp': 'S', 'oa': 1727734860, 'op': 1727734920}, {'n': 'PIOLTELLO LIMITO', 'ra': 'S', 'rp': 'S', 'oa': 1727735340, 'op': 1727735400}, {'n': 'MELZO', 'ra': 'S', 'rp': 'S', 'oa': 1727735700, 'op': 1727735760}, {'n': 'CASSANO D`ADDA', 'ra': 'S', 'rp': 'S', 'oa': 1727736120, 'op': 1727736180}, {'n': 'TREVIGLIO', 'ra': 'S', 'rp': 'S', 'oa': 1727736540, 'op': 1727736660}, {'n': 'VIDALENGO', 'ra': 'S', 'rp': 'S', 'oa': 1727736900, 'op': 1727736960}, {'n': 'MORENGO BARIANO', 'ra': 'S', 'rp': 'S', 'oa': 1727737200, 'op': 1727737260}, {'n': 'ROMANO', 'ra': 'S', 'rp': 'S', 'oa': 1727737500, 'op': 1727737560}, {'n': 'CALCIO', 'ra': 'S', 'rp': 'S', 'oa': 1727737860, 'op': 1727737920}, {'n': 'CHIARI', 'ra': 'S', 'rp': 'S', 'oa': 1727738220, 'op': 1727738280}, {'n': 'ROVATO', 'ra': 'S', 'rp': 'S', 'oa': 1727738580, 'op': 1727738640}, {'n': 'BRESCIA', 'ra': 'S', 'rp': 'N', 'oa': 1727739300, 'op': 0}]",
         null,
         null,
         null,
         null,
         null,
         null,
         null,
         null,
         null,
         null,
         null,
         "MILANO CENTRALE",
         "N",
         "S",
         null,
         "2024-09-30 22:15:00",
         null,
         null,
         "10911"
        ],
        [
         "1",
         "10911-1727734500-TUlMQU5PIENFTlRSQUxF",
         "10911",
         "MILANO CENTRALE",
         null,
         "BRESCIA",
         null,
         "Soppresso",
         "REG",
         "2024-09-30 22:15:00",
         "2024-09-30 23:35:00",
         "[{'n': 'MILANO CENTRALE', 'ra': 'N', 'rp': 'S', 'oa': 0, 'op': 1727734500}, {'n': 'MILANO LAMBRATE', 'ra': 'S', 'rp': 'S', 'oa': 1727734860, 'op': 1727734920}, {'n': 'PIOLTELLO LIMITO', 'ra': 'S', 'rp': 'S', 'oa': 1727735340, 'op': 1727735400}, {'n': 'MELZO', 'ra': 'S', 'rp': 'S', 'oa': 1727735700, 'op': 1727735760}, {'n': 'CASSANO D`ADDA', 'ra': 'S', 'rp': 'S', 'oa': 1727736120, 'op': 1727736180}, {'n': 'TREVIGLIO', 'ra': 'S', 'rp': 'S', 'oa': 1727736540, 'op': 1727736660}, {'n': 'VIDALENGO', 'ra': 'S', 'rp': 'S', 'oa': 1727736900, 'op': 1727736960}, {'n': 'MORENGO BARIANO', 'ra': 'S', 'rp': 'S', 'oa': 1727737200, 'op': 1727737260}, {'n': 'ROMANO', 'ra': 'S', 'rp': 'S', 'oa': 1727737500, 'op': 1727737560}, {'n': 'CALCIO', 'ra': 'S', 'rp': 'S', 'oa': 1727737860, 'op': 1727737920}, {'n': 'CHIARI', 'ra': 'S', 'rp': 'S', 'oa': 1727738220, 'op': 1727738280}, {'n': 'ROVATO', 'ra': 'S', 'rp': 'S', 'oa': 1727738580, 'op': 1727738640}, {'n': 'BRESCIA', 'ra': 'S', 'rp': 'N', 'oa': 1727739300, 'op': 0}]",
         null,
         null,
         null,
         null,
         null,
         null,
         null,
         null,
         null,
         null,
         null,
         "MILANO LAMBRATE",
         "S",
         "S",
         "2024-09-30 22:21:00",
         "2024-09-30 22:22:00",
         null,
         null,
         "10911"
        ],
        [
         "2",
         "10911-1727734500-TUlMQU5PIENFTlRSQUxF",
         "10911",
         "MILANO CENTRALE",
         null,
         "BRESCIA",
         null,
         "Soppresso",
         "REG",
         "2024-09-30 22:15:00",
         "2024-09-30 23:35:00",
         "[{'n': 'MILANO CENTRALE', 'ra': 'N', 'rp': 'S', 'oa': 0, 'op': 1727734500}, {'n': 'MILANO LAMBRATE', 'ra': 'S', 'rp': 'S', 'oa': 1727734860, 'op': 1727734920}, {'n': 'PIOLTELLO LIMITO', 'ra': 'S', 'rp': 'S', 'oa': 1727735340, 'op': 1727735400}, {'n': 'MELZO', 'ra': 'S', 'rp': 'S', 'oa': 1727735700, 'op': 1727735760}, {'n': 'CASSANO D`ADDA', 'ra': 'S', 'rp': 'S', 'oa': 1727736120, 'op': 1727736180}, {'n': 'TREVIGLIO', 'ra': 'S', 'rp': 'S', 'oa': 1727736540, 'op': 1727736660}, {'n': 'VIDALENGO', 'ra': 'S', 'rp': 'S', 'oa': 1727736900, 'op': 1727736960}, {'n': 'MORENGO BARIANO', 'ra': 'S', 'rp': 'S', 'oa': 1727737200, 'op': 1727737260}, {'n': 'ROMANO', 'ra': 'S', 'rp': 'S', 'oa': 1727737500, 'op': 1727737560}, {'n': 'CALCIO', 'ra': 'S', 'rp': 'S', 'oa': 1727737860, 'op': 1727737920}, {'n': 'CHIARI', 'ra': 'S', 'rp': 'S', 'oa': 1727738220, 'op': 1727738280}, {'n': 'ROVATO', 'ra': 'S', 'rp': 'S', 'oa': 1727738580, 'op': 1727738640}, {'n': 'BRESCIA', 'ra': 'S', 'rp': 'N', 'oa': 1727739300, 'op': 0}]",
         null,
         null,
         null,
         null,
         null,
         null,
         null,
         null,
         null,
         null,
         null,
         "PIOLTELLO LIMITO",
         "S",
         "S",
         "2024-09-30 22:29:00",
         "2024-09-30 22:30:00",
         null,
         null,
         "10911"
        ],
        [
         "3",
         "10911-1727734500-TUlMQU5PIENFTlRSQUxF",
         "10911",
         "MILANO CENTRALE",
         null,
         "BRESCIA",
         null,
         "Soppresso",
         "REG",
         "2024-09-30 22:15:00",
         "2024-09-30 23:35:00",
         "[{'n': 'MILANO CENTRALE', 'ra': 'N', 'rp': 'S', 'oa': 0, 'op': 1727734500}, {'n': 'MILANO LAMBRATE', 'ra': 'S', 'rp': 'S', 'oa': 1727734860, 'op': 1727734920}, {'n': 'PIOLTELLO LIMITO', 'ra': 'S', 'rp': 'S', 'oa': 1727735340, 'op': 1727735400}, {'n': 'MELZO', 'ra': 'S', 'rp': 'S', 'oa': 1727735700, 'op': 1727735760}, {'n': 'CASSANO D`ADDA', 'ra': 'S', 'rp': 'S', 'oa': 1727736120, 'op': 1727736180}, {'n': 'TREVIGLIO', 'ra': 'S', 'rp': 'S', 'oa': 1727736540, 'op': 1727736660}, {'n': 'VIDALENGO', 'ra': 'S', 'rp': 'S', 'oa': 1727736900, 'op': 1727736960}, {'n': 'MORENGO BARIANO', 'ra': 'S', 'rp': 'S', 'oa': 1727737200, 'op': 1727737260}, {'n': 'ROMANO', 'ra': 'S', 'rp': 'S', 'oa': 1727737500, 'op': 1727737560}, {'n': 'CALCIO', 'ra': 'S', 'rp': 'S', 'oa': 1727737860, 'op': 1727737920}, {'n': 'CHIARI', 'ra': 'S', 'rp': 'S', 'oa': 1727738220, 'op': 1727738280}, {'n': 'ROVATO', 'ra': 'S', 'rp': 'S', 'oa': 1727738580, 'op': 1727738640}, {'n': 'BRESCIA', 'ra': 'S', 'rp': 'N', 'oa': 1727739300, 'op': 0}]",
         null,
         null,
         null,
         null,
         null,
         null,
         null,
         null,
         null,
         null,
         null,
         "MELZO",
         "S",
         "S",
         "2024-09-30 22:35:00",
         "2024-09-30 22:36:00",
         null,
         null,
         "10911"
        ],
        [
         "4",
         "10911-1727734500-TUlMQU5PIENFTlRSQUxF",
         "10911",
         "MILANO CENTRALE",
         null,
         "BRESCIA",
         null,
         "Soppresso",
         "REG",
         "2024-09-30 22:15:00",
         "2024-09-30 23:35:00",
         "[{'n': 'MILANO CENTRALE', 'ra': 'N', 'rp': 'S', 'oa': 0, 'op': 1727734500}, {'n': 'MILANO LAMBRATE', 'ra': 'S', 'rp': 'S', 'oa': 1727734860, 'op': 1727734920}, {'n': 'PIOLTELLO LIMITO', 'ra': 'S', 'rp': 'S', 'oa': 1727735340, 'op': 1727735400}, {'n': 'MELZO', 'ra': 'S', 'rp': 'S', 'oa': 1727735700, 'op': 1727735760}, {'n': 'CASSANO D`ADDA', 'ra': 'S', 'rp': 'S', 'oa': 1727736120, 'op': 1727736180}, {'n': 'TREVIGLIO', 'ra': 'S', 'rp': 'S', 'oa': 1727736540, 'op': 1727736660}, {'n': 'VIDALENGO', 'ra': 'S', 'rp': 'S', 'oa': 1727736900, 'op': 1727736960}, {'n': 'MORENGO BARIANO', 'ra': 'S', 'rp': 'S', 'oa': 1727737200, 'op': 1727737260}, {'n': 'ROMANO', 'ra': 'S', 'rp': 'S', 'oa': 1727737500, 'op': 1727737560}, {'n': 'CALCIO', 'ra': 'S', 'rp': 'S', 'oa': 1727737860, 'op': 1727737920}, {'n': 'CHIARI', 'ra': 'S', 'rp': 'S', 'oa': 1727738220, 'op': 1727738280}, {'n': 'ROVATO', 'ra': 'S', 'rp': 'S', 'oa': 1727738580, 'op': 1727738640}, {'n': 'BRESCIA', 'ra': 'S', 'rp': 'N', 'oa': 1727739300, 'op': 0}]",
         null,
         null,
         null,
         null,
         null,
         null,
         null,
         null,
         null,
         null,
         null,
         "CASSANO D`ADDA",
         "S",
         "S",
         "2024-09-30 22:42:00",
         "2024-09-30 22:43:00",
         null,
         null,
         "10911"
        ]
       ],
       "shape": {
        "columns": 30,
        "rows": 5
       }
      },
      "text/html": [
       "<div>\n",
       "<style scoped>\n",
       "    .dataframe tbody tr th:only-of-type {\n",
       "        vertical-align: middle;\n",
       "    }\n",
       "\n",
       "    .dataframe tbody tr th {\n",
       "        vertical-align: top;\n",
       "    }\n",
       "\n",
       "    .dataframe thead th {\n",
       "        text-align: right;\n",
       "    }\n",
       "</style>\n",
       "<table border=\"1\" class=\"dataframe\">\n",
       "  <thead>\n",
       "    <tr style=\"text-align: right;\">\n",
       "      <th></th>\n",
       "      <th>train_id</th>\n",
       "      <th>train_number_x</th>\n",
       "      <th>departure_station</th>\n",
       "      <th>train_departure_delay</th>\n",
       "      <th>arrival_station</th>\n",
       "      <th>train_arrival_delay</th>\n",
       "      <th>train_status</th>\n",
       "      <th>train_class</th>\n",
       "      <th>scheduled_departure_time</th>\n",
       "      <th>scheduled_arrival_time</th>\n",
       "      <th>...</th>\n",
       "      <th>official_planned_departure</th>\n",
       "      <th>adjusted_scheduled_departure</th>\n",
       "      <th>stop_name</th>\n",
       "      <th>stop_arrival_delay</th>\n",
       "      <th>stop_departure_delay</th>\n",
       "      <th>stop_arrival_time</th>\n",
       "      <th>stop_departure_time</th>\n",
       "      <th>actual_platform</th>\n",
       "      <th>planned_platform</th>\n",
       "      <th>train_number_y</th>\n",
       "    </tr>\n",
       "  </thead>\n",
       "  <tbody>\n",
       "    <tr>\n",
       "      <th>0</th>\n",
       "      <td>10911-1727734500-TUlMQU5PIENFTlRSQUxF</td>\n",
       "      <td>10911</td>\n",
       "      <td>MILANO CENTRALE</td>\n",
       "      <td>NaN</td>\n",
       "      <td>BRESCIA</td>\n",
       "      <td>NaN</td>\n",
       "      <td>Soppresso</td>\n",
       "      <td>REG</td>\n",
       "      <td>2024-09-30 22:15:00</td>\n",
       "      <td>2024-09-30 23:35:00</td>\n",
       "      <td>...</td>\n",
       "      <td>NaN</td>\n",
       "      <td>NaT</td>\n",
       "      <td>MILANO CENTRALE</td>\n",
       "      <td>N</td>\n",
       "      <td>S</td>\n",
       "      <td>NaT</td>\n",
       "      <td>2024-09-30 22:15:00</td>\n",
       "      <td>NaN</td>\n",
       "      <td>NaN</td>\n",
       "      <td>10911</td>\n",
       "    </tr>\n",
       "    <tr>\n",
       "      <th>1</th>\n",
       "      <td>10911-1727734500-TUlMQU5PIENFTlRSQUxF</td>\n",
       "      <td>10911</td>\n",
       "      <td>MILANO CENTRALE</td>\n",
       "      <td>NaN</td>\n",
       "      <td>BRESCIA</td>\n",
       "      <td>NaN</td>\n",
       "      <td>Soppresso</td>\n",
       "      <td>REG</td>\n",
       "      <td>2024-09-30 22:15:00</td>\n",
       "      <td>2024-09-30 23:35:00</td>\n",
       "      <td>...</td>\n",
       "      <td>NaN</td>\n",
       "      <td>NaT</td>\n",
       "      <td>MILANO LAMBRATE</td>\n",
       "      <td>S</td>\n",
       "      <td>S</td>\n",
       "      <td>2024-09-30 22:21:00</td>\n",
       "      <td>2024-09-30 22:22:00</td>\n",
       "      <td>NaN</td>\n",
       "      <td>NaN</td>\n",
       "      <td>10911</td>\n",
       "    </tr>\n",
       "    <tr>\n",
       "      <th>2</th>\n",
       "      <td>10911-1727734500-TUlMQU5PIENFTlRSQUxF</td>\n",
       "      <td>10911</td>\n",
       "      <td>MILANO CENTRALE</td>\n",
       "      <td>NaN</td>\n",
       "      <td>BRESCIA</td>\n",
       "      <td>NaN</td>\n",
       "      <td>Soppresso</td>\n",
       "      <td>REG</td>\n",
       "      <td>2024-09-30 22:15:00</td>\n",
       "      <td>2024-09-30 23:35:00</td>\n",
       "      <td>...</td>\n",
       "      <td>NaN</td>\n",
       "      <td>NaT</td>\n",
       "      <td>PIOLTELLO LIMITO</td>\n",
       "      <td>S</td>\n",
       "      <td>S</td>\n",
       "      <td>2024-09-30 22:29:00</td>\n",
       "      <td>2024-09-30 22:30:00</td>\n",
       "      <td>NaN</td>\n",
       "      <td>NaN</td>\n",
       "      <td>10911</td>\n",
       "    </tr>\n",
       "    <tr>\n",
       "      <th>3</th>\n",
       "      <td>10911-1727734500-TUlMQU5PIENFTlRSQUxF</td>\n",
       "      <td>10911</td>\n",
       "      <td>MILANO CENTRALE</td>\n",
       "      <td>NaN</td>\n",
       "      <td>BRESCIA</td>\n",
       "      <td>NaN</td>\n",
       "      <td>Soppresso</td>\n",
       "      <td>REG</td>\n",
       "      <td>2024-09-30 22:15:00</td>\n",
       "      <td>2024-09-30 23:35:00</td>\n",
       "      <td>...</td>\n",
       "      <td>NaN</td>\n",
       "      <td>NaT</td>\n",
       "      <td>MELZO</td>\n",
       "      <td>S</td>\n",
       "      <td>S</td>\n",
       "      <td>2024-09-30 22:35:00</td>\n",
       "      <td>2024-09-30 22:36:00</td>\n",
       "      <td>NaN</td>\n",
       "      <td>NaN</td>\n",
       "      <td>10911</td>\n",
       "    </tr>\n",
       "    <tr>\n",
       "      <th>4</th>\n",
       "      <td>10911-1727734500-TUlMQU5PIENFTlRSQUxF</td>\n",
       "      <td>10911</td>\n",
       "      <td>MILANO CENTRALE</td>\n",
       "      <td>NaN</td>\n",
       "      <td>BRESCIA</td>\n",
       "      <td>NaN</td>\n",
       "      <td>Soppresso</td>\n",
       "      <td>REG</td>\n",
       "      <td>2024-09-30 22:15:00</td>\n",
       "      <td>2024-09-30 23:35:00</td>\n",
       "      <td>...</td>\n",
       "      <td>NaN</td>\n",
       "      <td>NaT</td>\n",
       "      <td>CASSANO D`ADDA</td>\n",
       "      <td>S</td>\n",
       "      <td>S</td>\n",
       "      <td>2024-09-30 22:42:00</td>\n",
       "      <td>2024-09-30 22:43:00</td>\n",
       "      <td>NaN</td>\n",
       "      <td>NaN</td>\n",
       "      <td>10911</td>\n",
       "    </tr>\n",
       "  </tbody>\n",
       "</table>\n",
       "<p>5 rows × 30 columns</p>\n",
       "</div>"
      ],
      "text/plain": [
       "                                train_id train_number_x departure_station  \\\n",
       "0  10911-1727734500-TUlMQU5PIENFTlRSQUxF          10911   MILANO CENTRALE   \n",
       "1  10911-1727734500-TUlMQU5PIENFTlRSQUxF          10911   MILANO CENTRALE   \n",
       "2  10911-1727734500-TUlMQU5PIENFTlRSQUxF          10911   MILANO CENTRALE   \n",
       "3  10911-1727734500-TUlMQU5PIENFTlRSQUxF          10911   MILANO CENTRALE   \n",
       "4  10911-1727734500-TUlMQU5PIENFTlRSQUxF          10911   MILANO CENTRALE   \n",
       "\n",
       "   train_departure_delay arrival_station  train_arrival_delay train_status  \\\n",
       "0                    NaN         BRESCIA                  NaN    Soppresso   \n",
       "1                    NaN         BRESCIA                  NaN    Soppresso   \n",
       "2                    NaN         BRESCIA                  NaN    Soppresso   \n",
       "3                    NaN         BRESCIA                  NaN    Soppresso   \n",
       "4                    NaN         BRESCIA                  NaN    Soppresso   \n",
       "\n",
       "  train_class scheduled_departure_time scheduled_arrival_time  ...  \\\n",
       "0         REG      2024-09-30 22:15:00    2024-09-30 23:35:00  ...   \n",
       "1         REG      2024-09-30 22:15:00    2024-09-30 23:35:00  ...   \n",
       "2         REG      2024-09-30 22:15:00    2024-09-30 23:35:00  ...   \n",
       "3         REG      2024-09-30 22:15:00    2024-09-30 23:35:00  ...   \n",
       "4         REG      2024-09-30 22:15:00    2024-09-30 23:35:00  ...   \n",
       "\n",
       "  official_planned_departure adjusted_scheduled_departure         stop_name  \\\n",
       "0                        NaN                          NaT   MILANO CENTRALE   \n",
       "1                        NaN                          NaT   MILANO LAMBRATE   \n",
       "2                        NaN                          NaT  PIOLTELLO LIMITO   \n",
       "3                        NaN                          NaT             MELZO   \n",
       "4                        NaN                          NaT    CASSANO D`ADDA   \n",
       "\n",
       "  stop_arrival_delay stop_departure_delay   stop_arrival_time  \\\n",
       "0                  N                    S                 NaT   \n",
       "1                  S                    S 2024-09-30 22:21:00   \n",
       "2                  S                    S 2024-09-30 22:29:00   \n",
       "3                  S                    S 2024-09-30 22:35:00   \n",
       "4                  S                    S 2024-09-30 22:42:00   \n",
       "\n",
       "  stop_departure_time actual_platform planned_platform train_number_y  \n",
       "0 2024-09-30 22:15:00             NaN              NaN          10911  \n",
       "1 2024-09-30 22:22:00             NaN              NaN          10911  \n",
       "2 2024-09-30 22:30:00             NaN              NaN          10911  \n",
       "3 2024-09-30 22:36:00             NaN              NaN          10911  \n",
       "4 2024-09-30 22:43:00             NaN              NaN          10911  \n",
       "\n",
       "[5 rows x 30 columns]"
      ]
     },
     "execution_count": 12,
     "metadata": {},
     "output_type": "execute_result"
    }
   ],
   "source": [
    "df_merged.head()"
   ]
  },
  {
   "cell_type": "code",
   "execution_count": 13,
   "metadata": {},
   "outputs": [],
   "source": [
    "df_merged.drop(columns=[\"route_stops\"], inplace=True)\n",
    "df_merged.drop(columns=[\"train_number_y\"], inplace=True)\n",
    "df_merged.rename(columns={\"train_number_x\": \"train_number\"}, inplace=True)"
   ]
  },
  {
   "cell_type": "markdown",
   "metadata": {},
   "source": [
    "## **Cleaning Missing Values and Removing Redundant Columns**\n",
    "\n",
    "We analyze missing values and remove non-informative or redundant columns."
   ]
  },
  {
   "cell_type": "code",
   "execution_count": 14,
   "metadata": {},
   "outputs": [
    {
     "name": "stdout",
     "output_type": "stream",
     "text": [
      "\n",
      " Null values in the final dataset:\n",
      "                              Missing Values  Percentage\n",
      "train_departure_delay                 270676        0.82\n",
      "train_arrival_delay                   270672        0.82\n",
      "train_status                        32728594       99.18\n",
      "delay_info                          32355738       98.05\n",
      "origin_station                      32351228       98.04\n",
      "final_destination                   32351228       98.04\n",
      "connected_train                     32573766       98.71\n",
      "train_subclass                      32164517       97.47\n",
      "adjusted_scheduled_arrival          32989216       99.97\n",
      "extended_final_destination          32988668       99.97\n",
      "official_scheduled_arrival          32988780       99.97\n",
      "starting_extended_point             32987350       99.96\n",
      "official_planned_departure          32987350       99.96\n",
      "adjusted_scheduled_departure        32992976       99.98\n",
      "stop_name                                115        0.00\n",
      "stop_arrival_delay                       115        0.00\n",
      "stop_departure_delay                     115        0.00\n",
      "stop_arrival_time                    2806826        8.51\n",
      "stop_departure_time                  2829802        8.58\n",
      "actual_platform                     32570039       98.70\n",
      "planned_platform                    32618506       98.85\n"
     ]
    }
   ],
   "source": [
    "# Calculation and visualization of missing values\n",
    "missing_values = df_merged.isnull().sum()\n",
    "missing_percentage = (missing_values / len(df_merged)) * 100\n",
    "\n",
    "missing_summary = pd.DataFrame({\n",
    "    \"Missing Values\": missing_values,\n",
    "    \"Percentage\": missing_percentage.round(2)\n",
    "})\n",
    "\n",
    "missing_summary = missing_summary[missing_summary[\"Missing Values\"] > 0]\n",
    "print(\"\\n Null values in the final dataset:\")\n",
    "print(missing_summary)\n"
   ]
  },
  {
   "cell_type": "code",
   "execution_count": 15,
   "metadata": {},
   "outputs": [],
   "source": [
    "# Number of rows before cleaning\n",
    "initial_rows_df = df_merged.shape[0]"
   ]
  },
  {
   "cell_type": "markdown",
   "metadata": {},
   "source": [
    "**We remove rows containing suppressed trains**"
   ]
  },
  {
   "cell_type": "code",
   "execution_count": 16,
   "metadata": {},
   "outputs": [],
   "source": [
    "# Remove rows where train_status is \"Soppresso\"\n",
    "df_merged = df_merged[df_merged[\"train_status\"] != \"Soppresso\"]"
   ]
  },
  {
   "cell_type": "code",
   "execution_count": 17,
   "metadata": {},
   "outputs": [],
   "source": [
    "# Remove columns with too many missing values or non-informative ones\n",
    "columns_to_drop = [\n",
    "    \"train_status\",\n",
    "    \"delay_info\",  # Textual, not useful for prediction\n",
    "    \"origin_station\", \"final_destination\",  # Few valid and redundant values\n",
    "    \"connected_train\", \"train_subclass\", \"adjusted_scheduled_arrival\",\n",
    "    \"extended_final_destination\", \"official_scheduled_arrival\",\n",
    "    \"starting_extended_point\", \"official_planned_departure\", \"adjusted_scheduled_departure\",\n",
    "    \"actual_platform\", \"planned_platform\"  # Removal of columns with >99% missing values\n",
    "]\n",
    "df_merged.drop(columns=columns_to_drop, inplace=True)"
   ]
  },
  {
   "cell_type": "code",
   "execution_count": 18,
   "metadata": {},
   "outputs": [
    {
     "name": "stdout",
     "output_type": "stream",
     "text": [
      "\n",
      " Null values in the final dataset:\n",
      "                       Missing Values  Percentage\n",
      "train_departure_delay               4        0.00\n",
      "stop_arrival_time             2781911        8.50\n",
      "stop_departure_time           2804887        8.57\n"
     ]
    }
   ],
   "source": [
    "# Calculation and visualization of missing values\n",
    "missing_values = df_merged.isnull().sum()\n",
    "missing_percentage = (missing_values / len(df_merged)) * 100\n",
    "\n",
    "missing_summary = pd.DataFrame({\n",
    "    \"Missing Values\": missing_values,\n",
    "    \"Percentage\": missing_percentage.round(2)\n",
    "})\n",
    "\n",
    "missing_summary = missing_summary[missing_summary[\"Missing Values\"] > 0]\n",
    "print(\"\\n Null values in the final dataset:\")\n",
    "print(missing_summary)\n"
   ]
  },
  {
   "cell_type": "markdown",
   "metadata": {},
   "source": [
    "**We remove deleted stops**\n",
    "\n",
    "The problem is that some scheduled stops have been cancelled, so the train did not make the stop at those stations. \n",
    "\n",
    "In the example, we see that train 2855 was supposed to arrive at Milano Rogoredo, but it was cancelled on that route and ends its journey at Milano Centrale. \n",
    "\n",
    "We solve by removing those lines.\n",
    "\n",
    "<div style=\"max-height: 300px; overflow-y: auto; border: 1px solid #ccc; padding: 10px;\" \n",
    "     onmouseover=\"this.style.overflowY='auto'\" \n",
    "     onmouseout=\"this.style.overflowY='hidden'\">\n",
    "\n",
    "```json\n",
    " {\n",
    "      \"_id\": \"2855-1704086040-Q09MSUNP\",\n",
    "      \"n\": \"2855\",\n",
    "      \"p\": \"COLICO\",\n",
    "      \"rp\": \"1\",\n",
    "      \"a\": \"MILANO CENTRALE\",\n",
    "      \"ra\": \"-3\",\n",
    "      \"dl\": \"Treno cancellato da SESTO S. GIOVANNI a MILANO ROGOREDO. Il treno oggi arriva a MILANO CENTRALE.\",\n",
    "      \"c\": \"REG\",\n",
    "      \"oo\": \"COLICO\",\n",
    "      \"od\": \"MILANO ROGOREDO\",\n",
    "      \"cn\": \"73467,MILANO GRECO PIRELLI\",\n",
    "      \"op\": 1704086040,\n",
    "      \"oa\": 1704093120,\n",
    "      \"fr\": [\n",
    "        {\n",
    "          \"n\": \"COLICO\",\n",
    "          \"ra\": \"N\",\n",
    "          \"rp\": \"1\",\n",
    "          \"oa\": 0,\n",
    "          \"op\": 1704086040\n",
    "        },\n",
    "        {\n",
    "          \"n\": \"PIONA\",\n",
    "          \"ra\": \"-2\",\n",
    "          \"rp\": \"1\",\n",
    "          \"oa\": 1704086340,\n",
    "          \"op\": 1704086400\n",
    "        },\n",
    "        {\n",
    "          \"n\": \"DORIO\",\n",
    "          \"ra\": \"0\",\n",
    "          \"rp\": \"-1\",\n",
    "          \"oa\": 1704086700,\n",
    "          \"op\": 1704086760\n",
    "        },\n",
    "        {\n",
    "          \"n\": \"DERVIO\",\n",
    "          \"ra\": \"-3\",\n",
    "          \"rp\": \"0\",\n",
    "          \"oa\": 1704087060,\n",
    "          \"op\": 1704087120\n",
    "        },\n",
    "        {\n",
    "          \"n\": \"BELLANO TARTAVELLE TERME\",\n",
    "          \"ra\": \"-1\",\n",
    "          \"rp\": \"5\",\n",
    "          \"oa\": 1704087480,\n",
    "          \"op\": 1704087540\n",
    "        },\n",
    "        {\n",
    "          \"n\": \"VARENNA ESINO\",\n",
    "          \"ra\": \"4\",\n",
    "          \"rp\": \"5\",\n",
    "          \"oa\": 1704087780,\n",
    "          \"op\": 1704087840\n",
    "        },\n",
    "        {\n",
    "          \"n\": \"FIUMELATTE\",\n",
    "          \"ra\": \"4\",\n",
    "          \"rp\": \"4\",\n",
    "          \"oa\": 1704087990,\n",
    "          \"op\": 1704088020\n",
    "        },\n",
    "        {\n",
    "          \"n\": \"LIERNA\",\n",
    "          \"ra\": \"3\",\n",
    "          \"rp\": \"4\",\n",
    "          \"oa\": 1704088320,\n",
    "          \"op\": 1704088380\n",
    "        },\n",
    "        {\n",
    "          \"n\": \"OLCIO\",\n",
    "          \"ra\": \"3\",\n",
    "          \"rp\": \"3\",\n",
    "          \"oa\": 1704088590,\n",
    "          \"op\": 1704088620\n",
    "        },\n",
    "        {\n",
    "          \"n\": \"MANDELLO DEL LARIO\",\n",
    "          \"ra\": \"1\",\n",
    "          \"rp\": \"2\",\n",
    "          \"oa\": 1704088860,\n",
    "          \"op\": 1704088920\n",
    "        },\n",
    "        {\n",
    "          \"n\": \"ABBADIA LARIANA\",\n",
    "          \"ra\": \"1\",\n",
    "          \"rp\": \"6\",\n",
    "          \"oa\": 1704089160,\n",
    "          \"op\": 1704089400\n",
    "        },\n",
    "        {\n",
    "          \"n\": \"LECCO\",\n",
    "          \"ra\": \"5\",\n",
    "          \"rp\": \"4\",\n",
    "          \"oa\": 1704089820,\n",
    "          \"op\": 1704090000\n",
    "        },\n",
    "        {\n",
    "          \"n\": \"CALOLZIOCORTE OLGINATE\",\n",
    "          \"ra\": \"2\",\n",
    "          \"rp\": \"3\",\n",
    "          \"oa\": 1704090420,\n",
    "          \"op\": 1704090480\n",
    "        },\n",
    "        {\n",
    "          \"n\": \"CERNUSCO-MERATE\",\n",
    "          \"ra\": \"1\",\n",
    "          \"rp\": \"1\",\n",
    "          \"oa\": 1704091080,\n",
    "          \"op\": 1704091140\n",
    "        },\n",
    "        {\n",
    "          \"n\": \"CARNATE USMATE\",\n",
    "          \"ra\": \"-3\",\n",
    "          \"rp\": \"-1\",\n",
    "          \"oa\": 1704091560,\n",
    "          \"op\": 1704091620\n",
    "        },\n",
    "        {\n",
    "          \"n\": \"MONZA\",\n",
    "          \"ra\": \"-2\",\n",
    "          \"rp\": \"1\",\n",
    "          \"oa\": 1704092160,\n",
    "          \"op\": 1704092220\n",
    "        },\n",
    "        {\n",
    "          \"n\": \"SESTO S. GIOVANNI\",\n",
    "          \"ra\": \"-1\",\n",
    "          \"rp\": \"1\",\n",
    "          \"oa\": 1704092520,\n",
    "          \"op\": 1704092580\n",
    "        },\n",
    "        {\n",
    "          \"n\": \"MILANO LAMBRATE\",\n",
    "          \"ra\": \"S\",\n",
    "          \"rp\": \"S\",\n",
    "          \"oa\": 1704093240,\n",
    "          \"op\": 1704093300\n",
    "        },\n",
    "        {\n",
    "          \"n\": \"MILANO FORLANINI\",\n",
    "          \"ra\": \"S\",\n",
    "          \"rp\": \"S\",\n",
    "          \"oa\": 1704093540,\n",
    "          \"op\": 1704093600\n",
    "        },\n",
    "        {\n",
    "          \"n\": \"MILANO ROGOREDO\",\n",
    "          \"ra\": \"S\",\n",
    "          \"rp\": \"S\",\n",
    "          \"oa\": 1704093960,\n",
    "          \"op\": 0\n",
    "        },\n",
    "        {\n",
    "          \"n\": \"MILANO CENTRALE\",\n",
    "          \"ra\": \"-3\",\n",
    "          \"rp\": \"N\",\n",
    "          \"oa\": 1704093120,\n",
    "          \"op\": 0\n",
    "        }\n",
    "      ]\n",
    "    }"
   ]
  },
  {
   "cell_type": "code",
   "execution_count": 19,
   "metadata": {},
   "outputs": [
    {
     "name": "stdout",
     "output_type": "stream",
     "text": [
      "Skipped stops removed. The final dataset contains 32549240 stops.\n"
     ]
    }
   ],
   "source": [
    "# Remove stops with \"S\" in arrival or departure delay\n",
    "df_merged = df_merged[~df_merged[\"stop_arrival_delay\"].astype(str).str.upper().eq(\"S\")]\n",
    "df_merged = df_merged[~df_merged[\"stop_departure_delay\"].astype(str).str.upper().eq(\"S\")]\n",
    "\n",
    "print(f\"Skipped stops removed. The final dataset contains {len(df_merged)} stops.\")\n"
   ]
  },
  {
   "cell_type": "markdown",
   "metadata": {},
   "source": [
    "**Schedule not available with NaT**.\n",
    "\n",
    "Stops that have ra = “n.d.” (arrival delay not available) or rp = “n.d.” (departure delay unavailable) represent a special case.\n",
    "In the example, the Serravalle Scrivia stop has ra = “n.d.,” which means that the arrival delay for that station is not known.\n",
    "\n",
    "We solve replacacing “n.d.” with NaN (np.nan). \n",
    "This allows machine learning models to handle the value as missing without skewing the data.\n",
    "\n",
    "<div style=\"max-height: 300px; overflow-y: auto; border: 1px solid #ccc; padding: 10px;\">\n",
    "\n",
    "```json\n",
    "{\n",
    "      \"_id\": \"2116-1704086820-R0VOT1ZBIFAuUFJJTkNJUEU=\",\n",
    "      \"n\": \"2116\",\n",
    "      \"p\": \"GENOVA P.PRINCIPE\",\n",
    "      \"rp\": \"2\",\n",
    "      \"a\": \"TORINO P.NUOVA\",\n",
    "      \"ra\": \"-3\",\n",
    "      \"c\": \"REG\",\n",
    "      \"op\": 1704086820,\n",
    "      \"oa\": 1704094200,\n",
    "      \"fr\": [\n",
    "        {\n",
    "          \"n\": \"GENOVA P.PRINCIPE\",\n",
    "          \"ra\": \"N\",\n",
    "          \"rp\": \"2\",\n",
    "          \"oa\": 0,\n",
    "          \"op\": 1704086820\n",
    "        },\n",
    "        {\n",
    "          \"n\": \"RONCO SCR.\",\n",
    "          \"ra\": \"0\",\n",
    "          \"rp\": \"2\",\n",
    "          \"oa\": 1704088200,\n",
    "          \"op\": 1704088260\n",
    "        },\n",
    "        {\n",
    "          \"n\": \"ARQUATA SCRIVIA\",\n",
    "          \"ra\": \"1\",\n",
    "          \"rp\": \"4\",\n",
    "          \"oa\": 1704088740,\n",
    "          \"op\": 1704088800\n",
    "        },\n",
    "        {\n",
    "          \"n\": \"SERRAVALLE SCRIVIA\",\n",
    "          \"ra\": \"n.d.\",\n",
    "          \"rp\": \"1\",\n",
    "          \"oa\": 1704089160,\n",
    "          \"op\": 1704089220\n",
    "        },\n",
    "        ...\n",
    "      ]\n",
    "    }"
   ]
  },
  {
   "cell_type": "code",
   "execution_count": 20,
   "metadata": {},
   "outputs": [
    {
     "name": "stdout",
     "output_type": "stream",
     "text": [
      "Stops with 'n.d.' handled correctly. The final dataset contains 32549240 stops.\n"
     ]
    }
   ],
   "source": [
    "# Convert \"n.d.\" delays to NaN to handle them as missing values\n",
    "df_merged[\"stop_arrival_delay\"] = df_merged[\"stop_arrival_delay\"].replace(\"n.d.\", np.nan)\n",
    "df_merged[\"stop_departure_delay\"] = df_merged[\"stop_departure_delay\"].replace(\"n.d.\", np.nan)\n",
    "\n",
    "df_merged[\"stop_arrival_delay\"] = pd.to_numeric(df_merged[\"stop_arrival_delay\"], errors=\"coerce\")\n",
    "df_merged[\"stop_departure_delay\"] = pd.to_numeric(df_merged[\"stop_departure_delay\"], errors=\"coerce\")\n",
    "\n",
    "print(f\"Stops with 'n.d.' handled correctly. The final dataset contains {len(df_merged)} stops.\")"
   ]
  },
  {
   "cell_type": "markdown",
   "metadata": {},
   "source": [
    "**Manage terminal station times**\n",
    "\n",
    "The destination stations do not have a departure time, and similarly, the departure stations do not have an arrival time.\n",
    "\n",
    "In the json files such times are denoted by '0'. \n",
    "\n",
    "To get around this problem, we can leave the missing values as NaT (Not a Time): In pandas dataframes, NaT is the standard for indicating a missing timestamp, just like NaN for numbers. Advanced machine learning models can handle NaT without problems, while an incorrect value such as “0” could compromise predictions.\n",
    "\n",
    "In addition, we add an is_terminal_stop column: This Boolean (True/False) column indicates whether the stop is the start or end station of the route. In this way, we can easily identify stops where arrival/departure values are missing legitimately."
   ]
  },
  {
   "cell_type": "code",
   "execution_count": 21,
   "metadata": {},
   "outputs": [],
   "source": [
    "# Creation of the boolean column for terminal stops\n",
    "df_merged[\"is_terminal_stop\"] = df_merged[\"stop_arrival_time\"].isna() | df_merged[\"stop_departure_time\"].isna()\n",
    "\n",
    "# Fill with NaT instead of 0\n",
    "df_merged[\"stop_arrival_time\"] = pd.to_datetime(df_merged[\"stop_arrival_time\"], errors=\"coerce\")\n",
    "df_merged[\"stop_departure_time\"] = pd.to_datetime(df_merged[\"stop_departure_time\"], errors=\"coerce\")"
   ]
  },
  {
   "cell_type": "code",
   "execution_count": 22,
   "metadata": {},
   "outputs": [
    {
     "name": "stdout",
     "output_type": "stream",
     "text": [
      "Terminal stops percentage: 17.05%\n"
     ]
    }
   ],
   "source": [
    "true_percentage = (df_merged[\"is_terminal_stop\"].sum() / len(df_merged)) * 100\n",
    "print(f\"Terminal stops percentage: {true_percentage:.2f}%\")"
   ]
  },
  {
   "cell_type": "code",
   "execution_count": 23,
   "metadata": {},
   "outputs": [
    {
     "name": "stdout",
     "output_type": "stream",
     "text": [
      "\n",
      " Null values in the final dataset:\n",
      "                       Missing Values  Percentage\n",
      "train_departure_delay               4        0.00\n",
      "stop_arrival_delay            7147420       21.96\n",
      "stop_departure_delay          3993550       12.27\n",
      "stop_arrival_time             2765755        8.50\n",
      "stop_departure_time           2783814        8.55\n"
     ]
    }
   ],
   "source": [
    "missing_values = df_merged.isnull().sum()\n",
    "missing_percentage = (missing_values / len(df_merged)) * 100\n",
    "\n",
    "missing_summary = pd.DataFrame({\n",
    "    \"Missing Values\": missing_values,\n",
    "    \"Percentage\": missing_percentage.round(2)\n",
    "})\n",
    "\n",
    "missing_summary = missing_summary[missing_summary[\"Missing Values\"] > 0]\n",
    "print(\"\\n Null values in the final dataset:\")\n",
    "print(missing_summary)"
   ]
  },
  {
   "cell_type": "markdown",
   "metadata": {},
   "source": [
    "The sum of missing values in these two columns (8.5% + 8.55% = 17.05%) matches exactly with the percentage of `True` values in `is_terminal_stop`, confirming that our logic for flagging terminal stops is correct.  \n",
    "\n",
    "If the percentage of `True` in `is_terminal_stop` was higher or lower than the combined missing percentages in `stop_arrival_time` and `stop_departure_time`, it would indicate an inconsistency in the logic used to define terminal stops.  \n",
    "\n",
    "Since they match, we can be confident that `is_terminal_stop` is a **reliable feature** and accurately reflects whether a stop is terminal.  "
   ]
  },
  {
   "cell_type": "markdown",
   "metadata": {},
   "source": [
    "**Handling delays at terminal stops**\n",
    "\n",
    "In the json files, `stop_arrival_delay` and `stop_departure_delay` times are denoted by 'N'. Infact, a train starts its journey from a departure station, meaning there is no previous stop to accumulate delay. A train ends its journey at the final station, meaning it does not have a next stop where departure delay would matter.\n",
    "\n",
    "Therefore, such null values are not true missing values, but expected structural absences. Filling them with 0 maintains logical consistency, prevents misinterpretation in downstream processing, and ensures clean data for analysis and modeling."
   ]
  },
  {
   "cell_type": "code",
   "execution_count": 24,
   "metadata": {},
   "outputs": [],
   "source": [
    "df_merged.loc[df_merged[\"stop_arrival_time\"].isna(), \"stop_arrival_delay\"] = 0\n",
    "df_merged.loc[df_merged[\"stop_departure_time\"].isna(), \"stop_departure_delay\"] = 0"
   ]
  },
  {
   "cell_type": "code",
   "execution_count": 25,
   "metadata": {},
   "outputs": [
    {
     "name": "stdout",
     "output_type": "stream",
     "text": [
      "\n",
      " Null values in the final dataset:\n",
      "                       Missing Values  Percentage\n",
      "train_departure_delay               4        0.00\n",
      "stop_arrival_delay            4383167       13.47\n",
      "stop_departure_delay          1212496        3.73\n",
      "stop_arrival_time             2765755        8.50\n",
      "stop_departure_time           2783814        8.55\n"
     ]
    }
   ],
   "source": [
    "missing_values = df_merged.isnull().sum()\n",
    "missing_percentage = (missing_values / len(df_merged)) * 100\n",
    "\n",
    "missing_summary = pd.DataFrame({\n",
    "    \"Missing Values\": missing_values,\n",
    "    \"Percentage\": missing_percentage.round(2)\n",
    "})\n",
    "\n",
    "missing_summary = missing_summary[missing_summary[\"Missing Values\"] > 0]\n",
    "print(\"\\n Null values in the final dataset:\")\n",
    "print(missing_summary)"
   ]
  },
  {
   "cell_type": "markdown",
   "metadata": {},
   "source": [
    "**Handling Anomalous Delay Values in Train Data**  \n",
    "\n",
    "During data inspection, an issue was identified with the recorded arrival and departure delays for certain stops. As in the example, in the case of train 17633 at the Argenta station, the recorded arrival delay was an extremely large negative value, which is clearly incorrect.  \n",
    "\n",
    "A significantly negative delay is unrealistic. Such a massive negative value is likely due to a logging or data entry mistake. Infact, the timestamp for the arrival time (`oa = 100374615540`) is completely out of scale, suggesting that the data point is corrupted or misformatted.  \n",
    "Such anomalies could distort statistical analyses, predictions, and machine learning models if left unaddressed.  \n",
    "\n",
    "To ensure data reliability and prevent these errors from affecting further analysis, a data cleaning step was applied to remove rows with clearly anomalous delay values.  \n",
    "\n",
    "We defined reasonable thresholds for delays. Any records that exceeded these thresholds were automatically filtered out from the dataset.  \n",
    "\n",
    "<div style=\"max-height: 300px; overflow-y: auto; border: 1px solid #ccc; padding: 10px;\">\n",
    "\n",
    "```json\n",
    "{\n",
    "    \"_id\": \"17633-1715787420-RkVSUkFSQQ==\",\n",
    "    \"n\": \"17633\",\n",
    "    \"p\": \"FERRARA\",\n",
    "    \"rp\": \"4\",\n",
    "    \"a\": \"RAVENNA\",\n",
    "    \"ra\": \"2\",\n",
    "    \"c\": \"REG\",\n",
    "    \"op\": 1715787420,\n",
    "    \"oa\": 1715791680,\n",
    "    \"fr\": [\n",
    "    {\n",
    "        \"n\": \"FERRARA\",\n",
    "        \"ra\": \"N\",\n",
    "        \"rp\": \"4\",\n",
    "        \"oa\": 0,\n",
    "        \"op\": 1715787420\n",
    "    },\n",
    "    {\n",
    "        \"n\": \"MONTESANTO\",\n",
    "        \"ra\": \"3\",\n",
    "        \"rp\": \"3\",\n",
    "        \"oa\": 1715788320,\n",
    "        \"op\": 1715788380\n",
    "    },\n",
    "    {\n",
    "        \"n\": \"PORTOMAGGIORE\",\n",
    "        \"ra\": \"2\",\n",
    "        \"rp\": \"3\",\n",
    "        \"oa\": 1715788740,\n",
    "        \"op\": 1715788860\n",
    "    },\n",
    "    {\n",
    "        \"n\": \"ARGENTA\",\n",
    "        \"ra\": \"-1644313770\",\n",
    "        \"rp\": \"1\",\n",
    "        \"oa\": 100374615540,\n",
    "        \"op\": 1715789400\n",
    "    },\n",
    "    ...\n",
    "    ]\n",
    "}\n",
    "```\n"
   ]
  },
  {
   "cell_type": "code",
   "execution_count": 26,
   "metadata": {},
   "outputs": [
    {
     "name": "stdout",
     "output_type": "stream",
     "text": [
      "Anomalous delays removed! The final dataset contains 32995541 stops.\n"
     ]
    }
   ],
   "source": [
    "# Define reasonable limits for delay in minutes\n",
    "MIN_DELAY = -10  # Maximum allowed early arrival\n",
    "MAX_DELAY = 300  # Maximum allowed delay\n",
    "\n",
    "df_merged = df_merged[\n",
    "    (df_merged[\"stop_arrival_delay\"].between(MIN_DELAY, MAX_DELAY, inclusive=\"both\")) &\n",
    "    (df_merged[\"stop_departure_delay\"].between(MIN_DELAY, MAX_DELAY, inclusive=\"both\")) &\n",
    "    (df_merged[\"train_departure_delay\"].between(MIN_DELAY, MAX_DELAY, inclusive=\"both\")) &\n",
    "    (df_merged[\"train_arrival_delay\"].between(MIN_DELAY, MAX_DELAY, inclusive=\"both\"))\n",
    "]\n",
    "\n",
    "print(f\"Anomalous delays removed! The final dataset contains {len(df_stops)} stops.\")"
   ]
  },
  {
   "cell_type": "code",
   "execution_count": 27,
   "metadata": {},
   "outputs": [],
   "source": [
    "# Number of rows after cleaning\n",
    "final_rows_df = df_merged.shape[0]"
   ]
  },
  {
   "cell_type": "code",
   "execution_count": 28,
   "metadata": {},
   "outputs": [
    {
     "name": "stdout",
     "output_type": "stream",
     "text": [
      "\n",
      " Null values in the final dataset:\n",
      "                     Missing Values  Percentage\n",
      "stop_arrival_time           2756872        9.86\n",
      "stop_departure_time         2774884        9.92\n"
     ]
    }
   ],
   "source": [
    "# Calculation and visualization of missing values\n",
    "missing_values = df_merged.isnull().sum()\n",
    "missing_percentage = (missing_values / len(df_merged)) * 100\n",
    "\n",
    "missing_summary = pd.DataFrame({\n",
    "    \"Missing Values\": missing_values,\n",
    "    \"Percentage\": missing_percentage.round(2)\n",
    "})\n",
    "\n",
    "missing_summary = missing_summary[missing_summary[\"Missing Values\"] > 0]\n",
    "print(\"\\n Null values in the final dataset:\")\n",
    "print(missing_summary)"
   ]
  },
  {
   "cell_type": "code",
   "execution_count": 29,
   "metadata": {},
   "outputs": [
    {
     "name": "stdout",
     "output_type": "stream",
     "text": [
      "Data lost in the train dataset: 5025841 rows (15.23%)\n"
     ]
    }
   ],
   "source": [
    "loss_percentage_df = (1 - final_rows_df / initial_rows_df) * 100\n",
    "\n",
    "print(f\"Data lost in the train dataset: {initial_rows_df - final_rows_df} rows ({loss_percentage_df:.2f}%)\")"
   ]
  },
  {
   "cell_type": "code",
   "execution_count": 30,
   "metadata": {},
   "outputs": [
    {
     "data": {
      "text/plain": [
       "(27973425, 15)"
      ]
     },
     "execution_count": 30,
     "metadata": {},
     "output_type": "execute_result"
    }
   ],
   "source": [
    "df_merged.shape"
   ]
  },
  {
   "cell_type": "code",
   "execution_count": 31,
   "metadata": {},
   "outputs": [
    {
     "data": {
      "application/vnd.microsoft.datawrangler.viewer.v0+json": {
       "columns": [
        {
         "name": "index",
         "rawType": "object",
         "type": "string"
        },
        {
         "name": "train_departure_delay",
         "rawType": "float64",
         "type": "float"
        },
        {
         "name": "train_arrival_delay",
         "rawType": "float64",
         "type": "float"
        },
        {
         "name": "scheduled_departure_time",
         "rawType": "object",
         "type": "unknown"
        },
        {
         "name": "scheduled_arrival_time",
         "rawType": "object",
         "type": "unknown"
        },
        {
         "name": "stop_arrival_delay",
         "rawType": "float64",
         "type": "float"
        },
        {
         "name": "stop_departure_delay",
         "rawType": "float64",
         "type": "float"
        },
        {
         "name": "stop_arrival_time",
         "rawType": "object",
         "type": "unknown"
        },
        {
         "name": "stop_departure_time",
         "rawType": "object",
         "type": "unknown"
        }
       ],
       "conversionMethod": "pd.DataFrame",
       "ref": "682e90b4-36e1-4127-a008-f7800d957d9d",
       "rows": [
        [
         "count",
         "27973425.0",
         "27973425.0",
         "27973425",
         "27973425",
         "27973425.0",
         "27973425.0",
         "25216553",
         "25198541"
        ],
        [
         "mean",
         "2.6406889038435586",
         "2.4459023162161944",
         "2024-06-29 19:12:30.748817152",
         "2024-06-29 21:01:46.929380096",
         "2.90757016704247",
         "3.9946902819372316",
         "2024-06-29 20:09:50.362128384",
         "2024-06-29 20:04:28.495725568"
        ],
        [
         "min",
         "-9.0",
         "-10.0",
         "2023-12-31 23:02:00",
         "2023-12-31 23:28:00",
         "-10.0",
         "-10.0",
         "2023-12-31 23:13:00",
         "2023-12-31 23:02:00"
        ],
        [
         "25%",
         "1.0",
         "-1.0",
         "2024-03-29 06:05:00",
         "2024-03-29 07:51:00",
         "0.0",
         "1.0",
         "2024-03-29 06:38:00",
         "2024-03-29 06:31:00"
        ],
        [
         "50%",
         "1.0",
         "1.0",
         "2024-06-27 05:20:00",
         "2024-06-27 07:10:00",
         "1.0",
         "2.0",
         "2024-06-27 05:56:00",
         "2024-06-27 05:50:00"
        ],
        [
         "75%",
         "3.0",
         "3.0",
         "2024-10-01 05:31:00",
         "2024-10-01 07:20:00",
         "4.0",
         "5.0",
         "2024-10-01 07:18:00",
         "2024-10-01 07:11:00"
        ],
        [
         "max",
         "289.0",
         "300.0",
         "2024-12-31 22:55:00",
         "2025-01-01 13:40:00",
         "300.0",
         "299.0",
         "2025-01-01 13:40:00",
         "2025-01-01 13:34:00"
        ],
        [
         "std",
         "4.6775342747297195",
         "9.453812645523882",
         null,
         null,
         "7.457631566577547",
         "7.174272222664585",
         null,
         null
        ]
       ],
       "shape": {
        "columns": 8,
        "rows": 8
       }
      },
      "text/html": [
       "<div>\n",
       "<style scoped>\n",
       "    .dataframe tbody tr th:only-of-type {\n",
       "        vertical-align: middle;\n",
       "    }\n",
       "\n",
       "    .dataframe tbody tr th {\n",
       "        vertical-align: top;\n",
       "    }\n",
       "\n",
       "    .dataframe thead th {\n",
       "        text-align: right;\n",
       "    }\n",
       "</style>\n",
       "<table border=\"1\" class=\"dataframe\">\n",
       "  <thead>\n",
       "    <tr style=\"text-align: right;\">\n",
       "      <th></th>\n",
       "      <th>train_departure_delay</th>\n",
       "      <th>train_arrival_delay</th>\n",
       "      <th>scheduled_departure_time</th>\n",
       "      <th>scheduled_arrival_time</th>\n",
       "      <th>stop_arrival_delay</th>\n",
       "      <th>stop_departure_delay</th>\n",
       "      <th>stop_arrival_time</th>\n",
       "      <th>stop_departure_time</th>\n",
       "    </tr>\n",
       "  </thead>\n",
       "  <tbody>\n",
       "    <tr>\n",
       "      <th>count</th>\n",
       "      <td>2.797342e+07</td>\n",
       "      <td>2.797342e+07</td>\n",
       "      <td>27973425</td>\n",
       "      <td>27973425</td>\n",
       "      <td>2.797342e+07</td>\n",
       "      <td>2.797342e+07</td>\n",
       "      <td>25216553</td>\n",
       "      <td>25198541</td>\n",
       "    </tr>\n",
       "    <tr>\n",
       "      <th>mean</th>\n",
       "      <td>2.640689e+00</td>\n",
       "      <td>2.445902e+00</td>\n",
       "      <td>2024-06-29 19:12:30.748817152</td>\n",
       "      <td>2024-06-29 21:01:46.929380096</td>\n",
       "      <td>2.907570e+00</td>\n",
       "      <td>3.994690e+00</td>\n",
       "      <td>2024-06-29 20:09:50.362128384</td>\n",
       "      <td>2024-06-29 20:04:28.495725568</td>\n",
       "    </tr>\n",
       "    <tr>\n",
       "      <th>min</th>\n",
       "      <td>-9.000000e+00</td>\n",
       "      <td>-1.000000e+01</td>\n",
       "      <td>2023-12-31 23:02:00</td>\n",
       "      <td>2023-12-31 23:28:00</td>\n",
       "      <td>-1.000000e+01</td>\n",
       "      <td>-1.000000e+01</td>\n",
       "      <td>2023-12-31 23:13:00</td>\n",
       "      <td>2023-12-31 23:02:00</td>\n",
       "    </tr>\n",
       "    <tr>\n",
       "      <th>25%</th>\n",
       "      <td>1.000000e+00</td>\n",
       "      <td>-1.000000e+00</td>\n",
       "      <td>2024-03-29 06:05:00</td>\n",
       "      <td>2024-03-29 07:51:00</td>\n",
       "      <td>0.000000e+00</td>\n",
       "      <td>1.000000e+00</td>\n",
       "      <td>2024-03-29 06:38:00</td>\n",
       "      <td>2024-03-29 06:31:00</td>\n",
       "    </tr>\n",
       "    <tr>\n",
       "      <th>50%</th>\n",
       "      <td>1.000000e+00</td>\n",
       "      <td>1.000000e+00</td>\n",
       "      <td>2024-06-27 05:20:00</td>\n",
       "      <td>2024-06-27 07:10:00</td>\n",
       "      <td>1.000000e+00</td>\n",
       "      <td>2.000000e+00</td>\n",
       "      <td>2024-06-27 05:56:00</td>\n",
       "      <td>2024-06-27 05:50:00</td>\n",
       "    </tr>\n",
       "    <tr>\n",
       "      <th>75%</th>\n",
       "      <td>3.000000e+00</td>\n",
       "      <td>3.000000e+00</td>\n",
       "      <td>2024-10-01 05:31:00</td>\n",
       "      <td>2024-10-01 07:20:00</td>\n",
       "      <td>4.000000e+00</td>\n",
       "      <td>5.000000e+00</td>\n",
       "      <td>2024-10-01 07:18:00</td>\n",
       "      <td>2024-10-01 07:11:00</td>\n",
       "    </tr>\n",
       "    <tr>\n",
       "      <th>max</th>\n",
       "      <td>2.890000e+02</td>\n",
       "      <td>3.000000e+02</td>\n",
       "      <td>2024-12-31 22:55:00</td>\n",
       "      <td>2025-01-01 13:40:00</td>\n",
       "      <td>3.000000e+02</td>\n",
       "      <td>2.990000e+02</td>\n",
       "      <td>2025-01-01 13:40:00</td>\n",
       "      <td>2025-01-01 13:34:00</td>\n",
       "    </tr>\n",
       "    <tr>\n",
       "      <th>std</th>\n",
       "      <td>4.677534e+00</td>\n",
       "      <td>9.453813e+00</td>\n",
       "      <td>NaN</td>\n",
       "      <td>NaN</td>\n",
       "      <td>7.457632e+00</td>\n",
       "      <td>7.174272e+00</td>\n",
       "      <td>NaN</td>\n",
       "      <td>NaN</td>\n",
       "    </tr>\n",
       "  </tbody>\n",
       "</table>\n",
       "</div>"
      ],
      "text/plain": [
       "       train_departure_delay  train_arrival_delay  \\\n",
       "count           2.797342e+07         2.797342e+07   \n",
       "mean            2.640689e+00         2.445902e+00   \n",
       "min            -9.000000e+00        -1.000000e+01   \n",
       "25%             1.000000e+00        -1.000000e+00   \n",
       "50%             1.000000e+00         1.000000e+00   \n",
       "75%             3.000000e+00         3.000000e+00   \n",
       "max             2.890000e+02         3.000000e+02   \n",
       "std             4.677534e+00         9.453813e+00   \n",
       "\n",
       "            scheduled_departure_time         scheduled_arrival_time  \\\n",
       "count                       27973425                       27973425   \n",
       "mean   2024-06-29 19:12:30.748817152  2024-06-29 21:01:46.929380096   \n",
       "min              2023-12-31 23:02:00            2023-12-31 23:28:00   \n",
       "25%              2024-03-29 06:05:00            2024-03-29 07:51:00   \n",
       "50%              2024-06-27 05:20:00            2024-06-27 07:10:00   \n",
       "75%              2024-10-01 05:31:00            2024-10-01 07:20:00   \n",
       "max              2024-12-31 22:55:00            2025-01-01 13:40:00   \n",
       "std                              NaN                            NaN   \n",
       "\n",
       "       stop_arrival_delay  stop_departure_delay  \\\n",
       "count        2.797342e+07          2.797342e+07   \n",
       "mean         2.907570e+00          3.994690e+00   \n",
       "min         -1.000000e+01         -1.000000e+01   \n",
       "25%          0.000000e+00          1.000000e+00   \n",
       "50%          1.000000e+00          2.000000e+00   \n",
       "75%          4.000000e+00          5.000000e+00   \n",
       "max          3.000000e+02          2.990000e+02   \n",
       "std          7.457632e+00          7.174272e+00   \n",
       "\n",
       "                   stop_arrival_time            stop_departure_time  \n",
       "count                       25216553                       25198541  \n",
       "mean   2024-06-29 20:09:50.362128384  2024-06-29 20:04:28.495725568  \n",
       "min              2023-12-31 23:13:00            2023-12-31 23:02:00  \n",
       "25%              2024-03-29 06:38:00            2024-03-29 06:31:00  \n",
       "50%              2024-06-27 05:56:00            2024-06-27 05:50:00  \n",
       "75%              2024-10-01 07:18:00            2024-10-01 07:11:00  \n",
       "max              2025-01-01 13:40:00            2025-01-01 13:34:00  \n",
       "std                              NaN                            NaN  "
      ]
     },
     "execution_count": 31,
     "metadata": {},
     "output_type": "execute_result"
    }
   ],
   "source": [
    "df_merged.describe()"
   ]
  },
  {
   "cell_type": "code",
   "execution_count": 34,
   "metadata": {},
   "outputs": [
    {
     "data": {
      "application/vnd.microsoft.datawrangler.viewer.v0+json": {
       "columns": [
        {
         "name": "index",
         "rawType": "int64",
         "type": "integer"
        },
        {
         "name": "train_id",
         "rawType": "object",
         "type": "string"
        },
        {
         "name": "train_number",
         "rawType": "object",
         "type": "string"
        },
        {
         "name": "departure_station",
         "rawType": "object",
         "type": "string"
        },
        {
         "name": "train_departure_delay",
         "rawType": "float64",
         "type": "float"
        },
        {
         "name": "arrival_station",
         "rawType": "object",
         "type": "string"
        },
        {
         "name": "train_arrival_delay",
         "rawType": "float64",
         "type": "float"
        },
        {
         "name": "train_class",
         "rawType": "object",
         "type": "string"
        },
        {
         "name": "scheduled_departure_time",
         "rawType": "datetime64[ns]",
         "type": "datetime"
        },
        {
         "name": "scheduled_arrival_time",
         "rawType": "datetime64[ns]",
         "type": "datetime"
        },
        {
         "name": "stop_name",
         "rawType": "object",
         "type": "string"
        },
        {
         "name": "stop_arrival_delay",
         "rawType": "float64",
         "type": "float"
        },
        {
         "name": "stop_departure_delay",
         "rawType": "float64",
         "type": "float"
        },
        {
         "name": "stop_arrival_time",
         "rawType": "datetime64[ns]",
         "type": "datetime"
        },
        {
         "name": "stop_departure_time",
         "rawType": "datetime64[ns]",
         "type": "datetime"
        },
        {
         "name": "is_terminal_stop",
         "rawType": "bool",
         "type": "boolean"
        }
       ],
       "conversionMethod": "pd.DataFrame",
       "ref": "a01a96d6-3f03-487c-95a1-22aeba7f14a9",
       "rows": [
        [
         "13",
         "17431-1727735880-Qk9MT0dOQSBDLkxF",
         "17431",
         "BOLOGNA C.LE",
         "1.0",
         "FAENZA",
         "-1.0",
         "REG",
         "2024-09-30 22:38:00",
         "2024-09-30 23:25:00",
         "BOLOGNA C.LE",
         "0.0",
         "1.0",
         null,
         "2024-09-30 22:38:00",
         "True"
        ],
        [
         "14",
         "17431-1727735880-Qk9MT0dOQSBDLkxF",
         "17431",
         "BOLOGNA C.LE",
         "1.0",
         "FAENZA",
         "-1.0",
         "REG",
         "2024-09-30 22:38:00",
         "2024-09-30 23:25:00",
         "S.LAZZARO DI SAVENA",
         "2.0",
         "2.0",
         "2024-09-30 22:45:00",
         "2024-09-30 22:46:00",
         "False"
        ],
        [
         "15",
         "17431-1727735880-Qk9MT0dOQSBDLkxF",
         "17431",
         "BOLOGNA C.LE",
         "1.0",
         "FAENZA",
         "-1.0",
         "REG",
         "2024-09-30 22:38:00",
         "2024-09-30 23:25:00",
         "OZZANO DELL'EMILIA",
         "3.0",
         "2.0",
         "2024-09-30 22:51:00",
         "2024-09-30 22:52:00",
         "False"
        ],
        [
         "16",
         "17431-1727735880-Qk9MT0dOQSBDLkxF",
         "17431",
         "BOLOGNA C.LE",
         "1.0",
         "FAENZA",
         "-1.0",
         "REG",
         "2024-09-30 22:38:00",
         "2024-09-30 23:25:00",
         "CASTEL S.PIETRO TERME",
         "3.0",
         "4.0",
         "2024-09-30 22:58:00",
         "2024-09-30 22:59:00",
         "False"
        ],
        [
         "17",
         "17431-1727735880-Qk9MT0dOQSBDLkxF",
         "17431",
         "BOLOGNA C.LE",
         "1.0",
         "FAENZA",
         "-1.0",
         "REG",
         "2024-09-30 22:38:00",
         "2024-09-30 23:25:00",
         "IMOLA",
         "3.0",
         "4.0",
         "2024-09-30 23:07:00",
         "2024-09-30 23:08:00",
         "False"
        ]
       ],
       "shape": {
        "columns": 15,
        "rows": 5
       }
      },
      "text/html": [
       "<div>\n",
       "<style scoped>\n",
       "    .dataframe tbody tr th:only-of-type {\n",
       "        vertical-align: middle;\n",
       "    }\n",
       "\n",
       "    .dataframe tbody tr th {\n",
       "        vertical-align: top;\n",
       "    }\n",
       "\n",
       "    .dataframe thead th {\n",
       "        text-align: right;\n",
       "    }\n",
       "</style>\n",
       "<table border=\"1\" class=\"dataframe\">\n",
       "  <thead>\n",
       "    <tr style=\"text-align: right;\">\n",
       "      <th></th>\n",
       "      <th>train_id</th>\n",
       "      <th>train_number</th>\n",
       "      <th>departure_station</th>\n",
       "      <th>train_departure_delay</th>\n",
       "      <th>arrival_station</th>\n",
       "      <th>train_arrival_delay</th>\n",
       "      <th>train_class</th>\n",
       "      <th>scheduled_departure_time</th>\n",
       "      <th>scheduled_arrival_time</th>\n",
       "      <th>stop_name</th>\n",
       "      <th>stop_arrival_delay</th>\n",
       "      <th>stop_departure_delay</th>\n",
       "      <th>stop_arrival_time</th>\n",
       "      <th>stop_departure_time</th>\n",
       "      <th>is_terminal_stop</th>\n",
       "    </tr>\n",
       "  </thead>\n",
       "  <tbody>\n",
       "    <tr>\n",
       "      <th>13</th>\n",
       "      <td>17431-1727735880-Qk9MT0dOQSBDLkxF</td>\n",
       "      <td>17431</td>\n",
       "      <td>BOLOGNA C.LE</td>\n",
       "      <td>1.0</td>\n",
       "      <td>FAENZA</td>\n",
       "      <td>-1.0</td>\n",
       "      <td>REG</td>\n",
       "      <td>2024-09-30 22:38:00</td>\n",
       "      <td>2024-09-30 23:25:00</td>\n",
       "      <td>BOLOGNA C.LE</td>\n",
       "      <td>0.0</td>\n",
       "      <td>1.0</td>\n",
       "      <td>NaT</td>\n",
       "      <td>2024-09-30 22:38:00</td>\n",
       "      <td>True</td>\n",
       "    </tr>\n",
       "    <tr>\n",
       "      <th>14</th>\n",
       "      <td>17431-1727735880-Qk9MT0dOQSBDLkxF</td>\n",
       "      <td>17431</td>\n",
       "      <td>BOLOGNA C.LE</td>\n",
       "      <td>1.0</td>\n",
       "      <td>FAENZA</td>\n",
       "      <td>-1.0</td>\n",
       "      <td>REG</td>\n",
       "      <td>2024-09-30 22:38:00</td>\n",
       "      <td>2024-09-30 23:25:00</td>\n",
       "      <td>S.LAZZARO DI SAVENA</td>\n",
       "      <td>2.0</td>\n",
       "      <td>2.0</td>\n",
       "      <td>2024-09-30 22:45:00</td>\n",
       "      <td>2024-09-30 22:46:00</td>\n",
       "      <td>False</td>\n",
       "    </tr>\n",
       "    <tr>\n",
       "      <th>15</th>\n",
       "      <td>17431-1727735880-Qk9MT0dOQSBDLkxF</td>\n",
       "      <td>17431</td>\n",
       "      <td>BOLOGNA C.LE</td>\n",
       "      <td>1.0</td>\n",
       "      <td>FAENZA</td>\n",
       "      <td>-1.0</td>\n",
       "      <td>REG</td>\n",
       "      <td>2024-09-30 22:38:00</td>\n",
       "      <td>2024-09-30 23:25:00</td>\n",
       "      <td>OZZANO DELL'EMILIA</td>\n",
       "      <td>3.0</td>\n",
       "      <td>2.0</td>\n",
       "      <td>2024-09-30 22:51:00</td>\n",
       "      <td>2024-09-30 22:52:00</td>\n",
       "      <td>False</td>\n",
       "    </tr>\n",
       "    <tr>\n",
       "      <th>16</th>\n",
       "      <td>17431-1727735880-Qk9MT0dOQSBDLkxF</td>\n",
       "      <td>17431</td>\n",
       "      <td>BOLOGNA C.LE</td>\n",
       "      <td>1.0</td>\n",
       "      <td>FAENZA</td>\n",
       "      <td>-1.0</td>\n",
       "      <td>REG</td>\n",
       "      <td>2024-09-30 22:38:00</td>\n",
       "      <td>2024-09-30 23:25:00</td>\n",
       "      <td>CASTEL S.PIETRO TERME</td>\n",
       "      <td>3.0</td>\n",
       "      <td>4.0</td>\n",
       "      <td>2024-09-30 22:58:00</td>\n",
       "      <td>2024-09-30 22:59:00</td>\n",
       "      <td>False</td>\n",
       "    </tr>\n",
       "    <tr>\n",
       "      <th>17</th>\n",
       "      <td>17431-1727735880-Qk9MT0dOQSBDLkxF</td>\n",
       "      <td>17431</td>\n",
       "      <td>BOLOGNA C.LE</td>\n",
       "      <td>1.0</td>\n",
       "      <td>FAENZA</td>\n",
       "      <td>-1.0</td>\n",
       "      <td>REG</td>\n",
       "      <td>2024-09-30 22:38:00</td>\n",
       "      <td>2024-09-30 23:25:00</td>\n",
       "      <td>IMOLA</td>\n",
       "      <td>3.0</td>\n",
       "      <td>4.0</td>\n",
       "      <td>2024-09-30 23:07:00</td>\n",
       "      <td>2024-09-30 23:08:00</td>\n",
       "      <td>False</td>\n",
       "    </tr>\n",
       "  </tbody>\n",
       "</table>\n",
       "</div>"
      ],
      "text/plain": [
       "                             train_id train_number departure_station  \\\n",
       "13  17431-1727735880-Qk9MT0dOQSBDLkxF        17431      BOLOGNA C.LE   \n",
       "14  17431-1727735880-Qk9MT0dOQSBDLkxF        17431      BOLOGNA C.LE   \n",
       "15  17431-1727735880-Qk9MT0dOQSBDLkxF        17431      BOLOGNA C.LE   \n",
       "16  17431-1727735880-Qk9MT0dOQSBDLkxF        17431      BOLOGNA C.LE   \n",
       "17  17431-1727735880-Qk9MT0dOQSBDLkxF        17431      BOLOGNA C.LE   \n",
       "\n",
       "    train_departure_delay arrival_station  train_arrival_delay train_class  \\\n",
       "13                    1.0          FAENZA                 -1.0         REG   \n",
       "14                    1.0          FAENZA                 -1.0         REG   \n",
       "15                    1.0          FAENZA                 -1.0         REG   \n",
       "16                    1.0          FAENZA                 -1.0         REG   \n",
       "17                    1.0          FAENZA                 -1.0         REG   \n",
       "\n",
       "   scheduled_departure_time scheduled_arrival_time              stop_name  \\\n",
       "13      2024-09-30 22:38:00    2024-09-30 23:25:00           BOLOGNA C.LE   \n",
       "14      2024-09-30 22:38:00    2024-09-30 23:25:00    S.LAZZARO DI SAVENA   \n",
       "15      2024-09-30 22:38:00    2024-09-30 23:25:00     OZZANO DELL'EMILIA   \n",
       "16      2024-09-30 22:38:00    2024-09-30 23:25:00  CASTEL S.PIETRO TERME   \n",
       "17      2024-09-30 22:38:00    2024-09-30 23:25:00                  IMOLA   \n",
       "\n",
       "    stop_arrival_delay  stop_departure_delay   stop_arrival_time  \\\n",
       "13                 0.0                   1.0                 NaT   \n",
       "14                 2.0                   2.0 2024-09-30 22:45:00   \n",
       "15                 3.0                   2.0 2024-09-30 22:51:00   \n",
       "16                 3.0                   4.0 2024-09-30 22:58:00   \n",
       "17                 3.0                   4.0 2024-09-30 23:07:00   \n",
       "\n",
       "   stop_departure_time  is_terminal_stop  \n",
       "13 2024-09-30 22:38:00              True  \n",
       "14 2024-09-30 22:46:00             False  \n",
       "15 2024-09-30 22:52:00             False  \n",
       "16 2024-09-30 22:59:00             False  \n",
       "17 2024-09-30 23:08:00             False  "
      ]
     },
     "execution_count": 34,
     "metadata": {},
     "output_type": "execute_result"
    }
   ],
   "source": [
    "df_merged.head(5)"
   ]
  },
  {
   "cell_type": "code",
   "execution_count": 35,
   "metadata": {},
   "outputs": [
    {
     "data": {
      "text/plain": [
       "Index(['train_id', 'train_number', 'departure_station',\n",
       "       'train_departure_delay', 'arrival_station', 'train_arrival_delay',\n",
       "       'train_class', 'scheduled_departure_time', 'scheduled_arrival_time',\n",
       "       'stop_name', 'stop_arrival_delay', 'stop_departure_delay',\n",
       "       'stop_arrival_time', 'stop_departure_time', 'is_terminal_stop'],\n",
       "      dtype='object')"
      ]
     },
     "execution_count": 35,
     "metadata": {},
     "output_type": "execute_result"
    }
   ],
   "source": [
    "df_merged.columns"
   ]
  },
  {
   "cell_type": "markdown",
   "metadata": {},
   "source": [
    "Finally, we need to drop redundant, non-informative, or problematic columns to:  \n",
    "- Avoid **data leakage** (features not available at prediction time).  \n",
    "- Reduce **dimensionality** (improve model efficiency).  \n",
    "- Remove **correlations** that may cause multicollinearity issues.  \n",
    "\n",
    "Columns to drop:\n",
    "- **train_id**: Unique identifiers, not useful for learning. \n",
    "- **train_arrival_delay**, **stop_arrival_time**: These are post-event values, trhan they are not available in real-world predictions.\n",
    "- **train_class**: Textual and unbalanced, not useful for prediction\n",
    "\n",
    "**stop_arrival_delay** will be our target (y)"
   ]
  },
  {
   "cell_type": "code",
   "execution_count": 36,
   "metadata": {},
   "outputs": [],
   "source": [
    "columns_to_drop = [\n",
    "    \"train_id\", \n",
    "    \"stop_arrival_time\",\n",
    "    \"train_arrival_delay\", \n",
    "    \"train_class\"\n",
    "]\n",
    "\n",
    "df_merged.drop(columns=columns_to_drop, inplace=True)"
   ]
  },
  {
   "cell_type": "code",
   "execution_count": 37,
   "metadata": {},
   "outputs": [
    {
     "name": "stdout",
     "output_type": "stream",
     "text": [
      "\n",
      " Null values in the final dataset:\n",
      "                     Missing Values  Percentage\n",
      "stop_departure_time         2774884        9.92\n"
     ]
    }
   ],
   "source": [
    "missing_values = df_merged.isnull().sum()\n",
    "missing_percentage = (missing_values / len(df_merged)) * 100\n",
    "\n",
    "missing_summary = pd.DataFrame({\n",
    "    \"Missing Values\": missing_values,\n",
    "    \"Percentage\": missing_percentage.round(2)\n",
    "})\n",
    "\n",
    "missing_summary = missing_summary[missing_summary[\"Missing Values\"] > 0]\n",
    "print(\"\\n Null values in the final dataset:\")\n",
    "print(missing_summary)\n"
   ]
  },
  {
   "cell_type": "code",
   "execution_count": 38,
   "metadata": {},
   "outputs": [
    {
     "name": "stdout",
     "output_type": "stream",
     "text": [
      "Cleaned datasets successfully saved in 'data/interim'\n"
     ]
    }
   ],
   "source": [
    "INTERIM_PATH = Path(\"data/interim\")\n",
    "INTERIM_PATH.mkdir(parents=True, exist_ok=True)\n",
    "\n",
    "df_merged.to_parquet(INTERIM_PATH / \"train_data_cleaned.parquet\", index=False)\n",
    "\n",
    "print(\"Cleaned datasets successfully saved in 'data/interim'\")\n"
   ]
  }
 ],
 "metadata": {
  "kernelspec": {
   "display_name": ".venv",
   "language": "python",
   "name": "python3"
  },
  "language_info": {
   "codemirror_mode": {
    "name": "ipython",
    "version": 3
   },
   "file_extension": ".py",
   "mimetype": "text/x-python",
   "name": "python",
   "nbconvert_exporter": "python",
   "pygments_lexer": "ipython3",
   "version": "3.10.0"
  }
 },
 "nbformat": 4,
 "nbformat_minor": 2
}
